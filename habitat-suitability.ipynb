{
 "cells": [
  {
   "cell_type": "markdown",
   "metadata": {},
   "source": [
    "## Habitat Suitability"
   ]
  },
  {
   "cell_type": "markdown",
   "metadata": {},
   "source": [
    "#### Overview"
   ]
  },
  {
   "cell_type": "markdown",
   "metadata": {},
   "source": [
    "#### Data Description\n",
    "\n",
    "\n",
    "#### Data Citation\n",
    "\n",
    "\n",
    "#### Methods\n"
   ]
  },
  {
   "cell_type": "markdown",
   "metadata": {},
   "source": [
    "#### Analysis"
   ]
  },
  {
   "cell_type": "markdown",
   "metadata": {},
   "source": [
    "Import Libraries"
   ]
  },
  {
   "cell_type": "code",
   "execution_count": 5,
   "metadata": {},
   "outputs": [],
   "source": [
    "import warnings\n",
    "warnings.simplefilter(action='ignore', category=FutureWarning)\n",
    "\n",
    "import os\n",
    "import pathlib\n",
    "import zipfile\n",
    "from glob import glob\n",
    "from urllib.request import urlretrieve\n",
    "\n",
    "import pandas as pd\n",
    "import geopandas as gpd"
   ]
  },
  {
   "cell_type": "code",
   "execution_count": 10,
   "metadata": {},
   "outputs": [],
   "source": [
    "# Define downloads directory\n",
    "downloads_dir = os.path.join(\n",
    "    # Home directory\n",
    "    pathlib.Path.home(),\n",
    "    'Downloads'\n",
    ")\n",
    "\n",
    "# Create project data directory \n",
    "data_dir = os.path.join(\n",
    "    # Home directory\n",
    "    pathlib.Path.home(),\n",
    "    'Projects',\n",
    "    # Project directory\n",
    "    'habitat-suitability',\n",
    "    'data'\n",
    ")\n",
    "\n",
    "os.makedirs(downloads_dir, exist_ok=True)\n",
    "os.makedirs(data_dir, exist_ok=True)"
   ]
  },
  {
   "cell_type": "code",
   "execution_count": null,
   "metadata": {},
   "outputs": [],
   "source": [
    "# Define the directory name for data\n",
    "grassland_units_dir = os.path.join(data_dir, 'usfs-national-grasslands')"
   ]
  },
  {
   "cell_type": "code",
   "execution_count": 12,
   "metadata": {},
   "outputs": [],
   "source": [
    "# Only download once\n",
    "usfs_pattern = os.path.join(grassland_units_dir, '*.shp')\n",
    "\n",
    "if not glob(usfs_pattern):\n",
    "    usfs_zip = f'{downloads_dir}/S_USA.NationalGrassland.zip'\n",
    "\n",
    "    # Unzip data\n",
    "    with zipfile.ZipFile(usfs_zip, 'r') as zip:\n",
    "        zip.extractall(path=grassland_units_dir)\n",
    "\n",
    "# Find the extracted .shp file path\n",
    "usfs_path = glob(usfs_pattern)[0]"
   ]
  },
  {
   "cell_type": "code",
   "execution_count": 14,
   "metadata": {},
   "outputs": [
    {
     "data": {
      "text/html": [
       "<div>\n",
       "<style scoped>\n",
       "    .dataframe tbody tr th:only-of-type {\n",
       "        vertical-align: middle;\n",
       "    }\n",
       "\n",
       "    .dataframe tbody tr th {\n",
       "        vertical-align: top;\n",
       "    }\n",
       "\n",
       "    .dataframe thead th {\n",
       "        text-align: right;\n",
       "    }\n",
       "</style>\n",
       "<table border=\"1\" class=\"dataframe\">\n",
       "  <thead>\n",
       "    <tr style=\"text-align: right;\">\n",
       "      <th></th>\n",
       "      <th>NATIONALGR</th>\n",
       "      <th>GRASSLANDN</th>\n",
       "      <th>GIS_ACRES</th>\n",
       "      <th>SHAPE_AREA</th>\n",
       "      <th>SHAPE_LEN</th>\n",
       "      <th>geometry</th>\n",
       "    </tr>\n",
       "  </thead>\n",
       "  <tbody>\n",
       "    <tr>\n",
       "      <th>0</th>\n",
       "      <td>281771010328</td>\n",
       "      <td>Fort Pierre National Grassland</td>\n",
       "      <td>209044.225</td>\n",
       "      <td>0.095149</td>\n",
       "      <td>1.455518</td>\n",
       "      <td>POLYGON ((-100.08409 44.28162, -100.08409 44.2...</td>\n",
       "    </tr>\n",
       "    <tr>\n",
       "      <th>1</th>\n",
       "      <td>295507010328</td>\n",
       "      <td>Butte Valley National Grassland</td>\n",
       "      <td>19489.170</td>\n",
       "      <td>0.008557</td>\n",
       "      <td>0.853736</td>\n",
       "      <td>MULTIPOLYGON (((-121.996 41.84049, -121.996 41...</td>\n",
       "    </tr>\n",
       "    <tr>\n",
       "      <th>2</th>\n",
       "      <td>295508010328</td>\n",
       "      <td>Kiowa National Grassland</td>\n",
       "      <td>144281.321</td>\n",
       "      <td>0.058543</td>\n",
       "      <td>9.858642</td>\n",
       "      <td>MULTIPOLYGON (((-104.30414 36.08063, -104.3041...</td>\n",
       "    </tr>\n",
       "    <tr>\n",
       "      <th>3</th>\n",
       "      <td>295509010328</td>\n",
       "      <td>Sheyenne National Grassland</td>\n",
       "      <td>70428.175</td>\n",
       "      <td>0.033356</td>\n",
       "      <td>4.097398</td>\n",
       "      <td>MULTIPOLYGON (((-97.31081 46.51457, -97.30559 ...</td>\n",
       "    </tr>\n",
       "    <tr>\n",
       "      <th>4</th>\n",
       "      <td>295510010328</td>\n",
       "      <td>Cedar River National Grassland</td>\n",
       "      <td>6717.517</td>\n",
       "      <td>0.003157</td>\n",
       "      <td>0.999947</td>\n",
       "      <td>MULTIPOLYGON (((-101.82221 45.95896, -101.8170...</td>\n",
       "    </tr>\n",
       "  </tbody>\n",
       "</table>\n",
       "</div>"
      ],
      "text/plain": [
       "     NATIONALGR                       GRASSLANDN   GIS_ACRES  SHAPE_AREA  \\\n",
       "0  281771010328   Fort Pierre National Grassland  209044.225    0.095149   \n",
       "1  295507010328  Butte Valley National Grassland   19489.170    0.008557   \n",
       "2  295508010328         Kiowa National Grassland  144281.321    0.058543   \n",
       "3  295509010328      Sheyenne National Grassland   70428.175    0.033356   \n",
       "4  295510010328   Cedar River National Grassland    6717.517    0.003157   \n",
       "\n",
       "   SHAPE_LEN                                           geometry  \n",
       "0   1.455518  POLYGON ((-100.08409 44.28162, -100.08409 44.2...  \n",
       "1   0.853736  MULTIPOLYGON (((-121.996 41.84049, -121.996 41...  \n",
       "2   9.858642  MULTIPOLYGON (((-104.30414 36.08063, -104.3041...  \n",
       "3   4.097398  MULTIPOLYGON (((-97.31081 46.51457, -97.30559 ...  \n",
       "4   0.999947  MULTIPOLYGON (((-101.82221 45.95896, -101.8170...  "
      ]
     },
     "execution_count": 14,
     "metadata": {},
     "output_type": "execute_result"
    }
   ],
   "source": [
    "# Load USFS grasslands units from shapefile\n",
    "\n",
    "usfs_grasslands_gdf = (\n",
    "    gpd.read_file(usfs_path)\n",
    ")\n",
    "\n",
    "usfs_grasslands_gdf.head()"
   ]
  },
  {
   "cell_type": "code",
   "execution_count": null,
   "metadata": {},
   "outputs": [],
   "source": []
  },
  {
   "cell_type": "code",
   "execution_count": null,
   "metadata": {},
   "outputs": [],
   "source": []
  },
  {
   "cell_type": "markdown",
   "metadata": {},
   "source": [
    "#### Discussion\n"
   ]
  },
  {
   "cell_type": "markdown",
   "metadata": {},
   "source": [
    "#### References\n",
    "\n"
   ]
  }
 ],
 "metadata": {
  "kernelspec": {
   "display_name": "earth-analytics-python",
   "language": "python",
   "name": "python3"
  },
  "language_info": {
   "codemirror_mode": {
    "name": "ipython",
    "version": 3
   },
   "file_extension": ".py",
   "mimetype": "text/x-python",
   "name": "python",
   "nbconvert_exporter": "python",
   "pygments_lexer": "ipython3",
   "version": "3.11.10"
  }
 },
 "nbformat": 4,
 "nbformat_minor": 2
}
