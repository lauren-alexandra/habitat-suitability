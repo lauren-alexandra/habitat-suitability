{
 "cells": [
  {
   "cell_type": "markdown",
   "metadata": {},
   "source": [
    "## Habitat Suitability"
   ]
  },
  {
   "cell_type": "markdown",
   "metadata": {},
   "source": [
    "#### Overview"
   ]
  },
  {
   "cell_type": "markdown",
   "metadata": {},
   "source": [
    "#### Data Description\n",
    "\n",
    "\n",
    "#### Data Citation\n",
    "\n",
    "\n",
    "#### Methods\n"
   ]
  },
  {
   "cell_type": "markdown",
   "metadata": {},
   "source": [
    "#### Analysis"
   ]
  },
  {
   "cell_type": "markdown",
   "metadata": {},
   "source": [
    "Import Libraries"
   ]
  },
  {
   "cell_type": "code",
   "execution_count": 16,
   "metadata": {},
   "outputs": [
    {
     "data": {
      "text/html": [
       "<script type=\"esms-options\">{\"shimMode\": true}</script><style>*[data-root-id],\n",
       "*[data-root-id] > * {\n",
       "  box-sizing: border-box;\n",
       "  font-family: var(--jp-ui-font-family);\n",
       "  font-size: var(--jp-ui-font-size1);\n",
       "  color: var(--vscode-editor-foreground, var(--jp-ui-font-color1));\n",
       "}\n",
       "\n",
       "/* Override VSCode background color */\n",
       ".cell-output-ipywidget-background:has(\n",
       "    > .cell-output-ipywidget-background > .lm-Widget > *[data-root-id]\n",
       "  ),\n",
       ".cell-output-ipywidget-background:has(> .lm-Widget > *[data-root-id]) {\n",
       "  background-color: transparent !important;\n",
       "}\n",
       "</style>"
      ]
     },
     "metadata": {},
     "output_type": "display_data"
    },
    {
     "data": {
      "application/javascript": "(function(root) {\n  function now() {\n    return new Date();\n  }\n\n  const force = true;\n  const py_version = '3.5.2'.replace('rc', '-rc.').replace('.dev', '-dev.');\n  const reloading = false;\n  const Bokeh = root.Bokeh;\n\n  // Set a timeout for this load but only if we are not already initializing\n  if (typeof (root._bokeh_timeout) === \"undefined\" || (force || !root._bokeh_is_initializing)) {\n    root._bokeh_timeout = Date.now() + 5000;\n    root._bokeh_failed_load = false;\n  }\n\n  function run_callbacks() {\n    try {\n      root._bokeh_onload_callbacks.forEach(function(callback) {\n        if (callback != null)\n          callback();\n      });\n    } finally {\n      delete root._bokeh_onload_callbacks;\n    }\n    console.debug(\"Bokeh: all callbacks have finished\");\n  }\n\n  function load_libs(css_urls, js_urls, js_modules, js_exports, callback) {\n    if (css_urls == null) css_urls = [];\n    if (js_urls == null) js_urls = [];\n    if (js_modules == null) js_modules = [];\n    if (js_exports == null) js_exports = {};\n\n    root._bokeh_onload_callbacks.push(callback);\n\n    if (root._bokeh_is_loading > 0) {\n      // Don't load bokeh if it is still initializing\n      console.debug(\"Bokeh: BokehJS is being loaded, scheduling callback at\", now());\n      return null;\n    } else if (js_urls.length === 0 && js_modules.length === 0 && Object.keys(js_exports).length === 0) {\n      // There is nothing to load\n      run_callbacks();\n      return null;\n    }\n\n    function on_load() {\n      root._bokeh_is_loading--;\n      if (root._bokeh_is_loading === 0) {\n        console.debug(\"Bokeh: all BokehJS libraries/stylesheets loaded\");\n        run_callbacks()\n      }\n    }\n    window._bokeh_on_load = on_load\n\n    function on_error(e) {\n      const src_el = e.srcElement\n      console.error(\"failed to load \" + (src_el.href || src_el.src));\n    }\n\n    const skip = [];\n    if (window.requirejs) {\n      window.requirejs.config({'packages': {}, 'paths': {}, 'shim': {}});\n      root._bokeh_is_loading = css_urls.length + 0;\n    } else {\n      root._bokeh_is_loading = css_urls.length + js_urls.length + js_modules.length + Object.keys(js_exports).length;\n    }\n\n    const existing_stylesheets = []\n    const links = document.getElementsByTagName('link')\n    for (let i = 0; i < links.length; i++) {\n      const link = links[i]\n      if (link.href != null) {\n        existing_stylesheets.push(link.href)\n      }\n    }\n    for (let i = 0; i < css_urls.length; i++) {\n      const url = css_urls[i];\n      const escaped = encodeURI(url)\n      if (existing_stylesheets.indexOf(escaped) !== -1) {\n        on_load()\n        continue;\n      }\n      const element = document.createElement(\"link\");\n      element.onload = on_load;\n      element.onerror = on_error;\n      element.rel = \"stylesheet\";\n      element.type = \"text/css\";\n      element.href = url;\n      console.debug(\"Bokeh: injecting link tag for BokehJS stylesheet: \", url);\n      document.body.appendChild(element);\n    }    var existing_scripts = []\n    const scripts = document.getElementsByTagName('script')\n    for (let i = 0; i < scripts.length; i++) {\n      var script = scripts[i]\n      if (script.src != null) {\n        existing_scripts.push(script.src)\n      }\n    }\n    for (let i = 0; i < js_urls.length; i++) {\n      const url = js_urls[i];\n      const escaped = encodeURI(url)\n      if (skip.indexOf(escaped) !== -1 || existing_scripts.indexOf(escaped) !== -1) {\n        if (!window.requirejs) {\n          on_load();\n        }\n        continue;\n      }\n      const element = document.createElement('script');\n      element.onload = on_load;\n      element.onerror = on_error;\n      element.async = false;\n      element.src = url;\n      console.debug(\"Bokeh: injecting script tag for BokehJS library: \", url);\n      document.head.appendChild(element);\n    }\n    for (let i = 0; i < js_modules.length; i++) {\n      const url = js_modules[i];\n      const escaped = encodeURI(url)\n      if (skip.indexOf(escaped) !== -1 || existing_scripts.indexOf(escaped) !== -1) {\n        if (!window.requirejs) {\n          on_load();\n        }\n        continue;\n      }\n      var element = document.createElement('script');\n      element.onload = on_load;\n      element.onerror = on_error;\n      element.async = false;\n      element.src = url;\n      element.type = \"module\";\n      console.debug(\"Bokeh: injecting script tag for BokehJS library: \", url);\n      document.head.appendChild(element);\n    }\n    for (const name in js_exports) {\n      const url = js_exports[name];\n      const escaped = encodeURI(url)\n      if (skip.indexOf(escaped) >= 0 || root[name] != null) {\n        if (!window.requirejs) {\n          on_load();\n        }\n        continue;\n      }\n      var element = document.createElement('script');\n      element.onerror = on_error;\n      element.async = false;\n      element.type = \"module\";\n      console.debug(\"Bokeh: injecting script tag for BokehJS library: \", url);\n      element.textContent = `\n      import ${name} from \"${url}\"\n      window.${name} = ${name}\n      window._bokeh_on_load()\n      `\n      document.head.appendChild(element);\n    }\n    if (!js_urls.length && !js_modules.length) {\n      on_load()\n    }\n  };\n\n  function inject_raw_css(css) {\n    const element = document.createElement(\"style\");\n    element.appendChild(document.createTextNode(css));\n    document.body.appendChild(element);\n  }\n\n  const js_urls = [\"https://cdn.holoviz.org/panel/1.5.2/dist/bundled/reactiveesm/es-module-shims@^1.10.0/dist/es-module-shims.min.js\", \"https://cdn.bokeh.org/bokeh/release/bokeh-3.5.2.min.js\", \"https://cdn.bokeh.org/bokeh/release/bokeh-gl-3.5.2.min.js\", \"https://cdn.bokeh.org/bokeh/release/bokeh-widgets-3.5.2.min.js\", \"https://cdn.bokeh.org/bokeh/release/bokeh-tables-3.5.2.min.js\", \"https://cdn.holoviz.org/panel/1.5.2/dist/panel.min.js\"];\n  const js_modules = [];\n  const js_exports = {};\n  const css_urls = [];\n  const inline_js = [    function(Bokeh) {\n      Bokeh.set_log_level(\"info\");\n    },\nfunction(Bokeh) {} // ensure no trailing comma for IE\n  ];\n\n  function run_inline_js() {\n    if ((root.Bokeh !== undefined) || (force === true)) {\n      for (let i = 0; i < inline_js.length; i++) {\n        try {\n          inline_js[i].call(root, root.Bokeh);\n        } catch(e) {\n          if (!reloading) {\n            throw e;\n          }\n        }\n      }\n      // Cache old bokeh versions\n      if (Bokeh != undefined && !reloading) {\n        var NewBokeh = root.Bokeh;\n        if (Bokeh.versions === undefined) {\n          Bokeh.versions = new Map();\n        }\n        if (NewBokeh.version !== Bokeh.version) {\n          Bokeh.versions.set(NewBokeh.version, NewBokeh)\n        }\n        root.Bokeh = Bokeh;\n      }\n    } else if (Date.now() < root._bokeh_timeout) {\n      setTimeout(run_inline_js, 100);\n    } else if (!root._bokeh_failed_load) {\n      console.log(\"Bokeh: BokehJS failed to load within specified timeout.\");\n      root._bokeh_failed_load = true;\n    }\n    root._bokeh_is_initializing = false\n  }\n\n  function load_or_wait() {\n    // Implement a backoff loop that tries to ensure we do not load multiple\n    // versions of Bokeh and its dependencies at the same time.\n    // In recent versions we use the root._bokeh_is_initializing flag\n    // to determine whether there is an ongoing attempt to initialize\n    // bokeh, however for backward compatibility we also try to ensure\n    // that we do not start loading a newer (Panel>=1.0 and Bokeh>3) version\n    // before older versions are fully initialized.\n    if (root._bokeh_is_initializing && Date.now() > root._bokeh_timeout) {\n      // If the timeout and bokeh was not successfully loaded we reset\n      // everything and try loading again\n      root._bokeh_timeout = Date.now() + 5000;\n      root._bokeh_is_initializing = false;\n      root._bokeh_onload_callbacks = undefined;\n      root._bokeh_is_loading = 0\n      console.log(\"Bokeh: BokehJS was loaded multiple times but one version failed to initialize.\");\n      load_or_wait();\n    } else if (root._bokeh_is_initializing || (typeof root._bokeh_is_initializing === \"undefined\" && root._bokeh_onload_callbacks !== undefined)) {\n      setTimeout(load_or_wait, 100);\n    } else {\n      root._bokeh_is_initializing = true\n      root._bokeh_onload_callbacks = []\n      const bokeh_loaded = root.Bokeh != null && (root.Bokeh.version === py_version || (root.Bokeh.versions !== undefined && root.Bokeh.versions.has(py_version)));\n      if (!reloading && !bokeh_loaded) {\n        if (root.Bokeh) {\n          root.Bokeh = undefined;\n        }\n        console.debug(\"Bokeh: BokehJS not loaded, scheduling load and callback at\", now());\n      }\n      load_libs(css_urls, js_urls, js_modules, js_exports, function() {\n        console.debug(\"Bokeh: BokehJS plotting callback run at\", now());\n        run_inline_js();\n      });\n    }\n  }\n  // Give older versions of the autoload script a head-start to ensure\n  // they initialize before we start loading newer version.\n  setTimeout(load_or_wait, 100)\n}(window));",
      "application/vnd.holoviews_load.v0+json": ""
     },
     "metadata": {},
     "output_type": "display_data"
    },
    {
     "data": {
      "application/javascript": "\nif ((window.PyViz === undefined) || (window.PyViz instanceof HTMLElement)) {\n  window.PyViz = {comms: {}, comm_status:{}, kernels:{}, receivers: {}, plot_index: []}\n}\n\n\n    function JupyterCommManager() {\n    }\n\n    JupyterCommManager.prototype.register_target = function(plot_id, comm_id, msg_handler) {\n      if (window.comm_manager || ((window.Jupyter !== undefined) && (Jupyter.notebook.kernel != null))) {\n        var comm_manager = window.comm_manager || Jupyter.notebook.kernel.comm_manager;\n        comm_manager.register_target(comm_id, function(comm) {\n          comm.on_msg(msg_handler);\n        });\n      } else if ((plot_id in window.PyViz.kernels) && (window.PyViz.kernels[plot_id])) {\n        window.PyViz.kernels[plot_id].registerCommTarget(comm_id, function(comm) {\n          comm.onMsg = msg_handler;\n        });\n      } else if (typeof google != 'undefined' && google.colab.kernel != null) {\n        google.colab.kernel.comms.registerTarget(comm_id, (comm) => {\n          var messages = comm.messages[Symbol.asyncIterator]();\n          function processIteratorResult(result) {\n            var message = result.value;\n            console.log(message)\n            var content = {data: message.data, comm_id};\n            var buffers = []\n            for (var buffer of message.buffers || []) {\n              buffers.push(new DataView(buffer))\n            }\n            var metadata = message.metadata || {};\n            var msg = {content, buffers, metadata}\n            msg_handler(msg);\n            return messages.next().then(processIteratorResult);\n          }\n          return messages.next().then(processIteratorResult);\n        })\n      }\n    }\n\n    JupyterCommManager.prototype.get_client_comm = function(plot_id, comm_id, msg_handler) {\n      if (comm_id in window.PyViz.comms) {\n        return window.PyViz.comms[comm_id];\n      } else if (window.comm_manager || ((window.Jupyter !== undefined) && (Jupyter.notebook.kernel != null))) {\n        var comm_manager = window.comm_manager || Jupyter.notebook.kernel.comm_manager;\n        var comm = comm_manager.new_comm(comm_id, {}, {}, {}, comm_id);\n        if (msg_handler) {\n          comm.on_msg(msg_handler);\n        }\n      } else if ((plot_id in window.PyViz.kernels) && (window.PyViz.kernels[plot_id])) {\n        var comm = window.PyViz.kernels[plot_id].connectToComm(comm_id);\n        comm.open();\n        if (msg_handler) {\n          comm.onMsg = msg_handler;\n        }\n      } else if (typeof google != 'undefined' && google.colab.kernel != null) {\n        var comm_promise = google.colab.kernel.comms.open(comm_id)\n        comm_promise.then((comm) => {\n          window.PyViz.comms[comm_id] = comm;\n          if (msg_handler) {\n            var messages = comm.messages[Symbol.asyncIterator]();\n            function processIteratorResult(result) {\n              var message = result.value;\n              var content = {data: message.data};\n              var metadata = message.metadata || {comm_id};\n              var msg = {content, metadata}\n              msg_handler(msg);\n              return messages.next().then(processIteratorResult);\n            }\n            return messages.next().then(processIteratorResult);\n          }\n        }) \n        var sendClosure = (data, metadata, buffers, disposeOnDone) => {\n          return comm_promise.then((comm) => {\n            comm.send(data, metadata, buffers, disposeOnDone);\n          });\n        };\n        var comm = {\n          send: sendClosure\n        };\n      }\n      window.PyViz.comms[comm_id] = comm;\n      return comm;\n    }\n    window.PyViz.comm_manager = new JupyterCommManager();\n    \n\n\nvar JS_MIME_TYPE = 'application/javascript';\nvar HTML_MIME_TYPE = 'text/html';\nvar EXEC_MIME_TYPE = 'application/vnd.holoviews_exec.v0+json';\nvar CLASS_NAME = 'output';\n\n/**\n * Render data to the DOM node\n */\nfunction render(props, node) {\n  var div = document.createElement(\"div\");\n  var script = document.createElement(\"script\");\n  node.appendChild(div);\n  node.appendChild(script);\n}\n\n/**\n * Handle when a new output is added\n */\nfunction handle_add_output(event, handle) {\n  var output_area = handle.output_area;\n  var output = handle.output;\n  if ((output.data == undefined) || (!output.data.hasOwnProperty(EXEC_MIME_TYPE))) {\n    return\n  }\n  var id = output.metadata[EXEC_MIME_TYPE][\"id\"];\n  var toinsert = output_area.element.find(\".\" + CLASS_NAME.split(' ')[0]);\n  if (id !== undefined) {\n    var nchildren = toinsert.length;\n    var html_node = toinsert[nchildren-1].children[0];\n    html_node.innerHTML = output.data[HTML_MIME_TYPE];\n    var scripts = [];\n    var nodelist = html_node.querySelectorAll(\"script\");\n    for (var i in nodelist) {\n      if (nodelist.hasOwnProperty(i)) {\n        scripts.push(nodelist[i])\n      }\n    }\n\n    scripts.forEach( function (oldScript) {\n      var newScript = document.createElement(\"script\");\n      var attrs = [];\n      var nodemap = oldScript.attributes;\n      for (var j in nodemap) {\n        if (nodemap.hasOwnProperty(j)) {\n          attrs.push(nodemap[j])\n        }\n      }\n      attrs.forEach(function(attr) { newScript.setAttribute(attr.name, attr.value) });\n      newScript.appendChild(document.createTextNode(oldScript.innerHTML));\n      oldScript.parentNode.replaceChild(newScript, oldScript);\n    });\n    if (JS_MIME_TYPE in output.data) {\n      toinsert[nchildren-1].children[1].textContent = output.data[JS_MIME_TYPE];\n    }\n    output_area._hv_plot_id = id;\n    if ((window.Bokeh !== undefined) && (id in Bokeh.index)) {\n      window.PyViz.plot_index[id] = Bokeh.index[id];\n    } else {\n      window.PyViz.plot_index[id] = null;\n    }\n  } else if (output.metadata[EXEC_MIME_TYPE][\"server_id\"] !== undefined) {\n    var bk_div = document.createElement(\"div\");\n    bk_div.innerHTML = output.data[HTML_MIME_TYPE];\n    var script_attrs = bk_div.children[0].attributes;\n    for (var i = 0; i < script_attrs.length; i++) {\n      toinsert[toinsert.length - 1].childNodes[1].setAttribute(script_attrs[i].name, script_attrs[i].value);\n    }\n    // store reference to server id on output_area\n    output_area._bokeh_server_id = output.metadata[EXEC_MIME_TYPE][\"server_id\"];\n  }\n}\n\n/**\n * Handle when an output is cleared or removed\n */\nfunction handle_clear_output(event, handle) {\n  var id = handle.cell.output_area._hv_plot_id;\n  var server_id = handle.cell.output_area._bokeh_server_id;\n  if (((id === undefined) || !(id in PyViz.plot_index)) && (server_id !== undefined)) { return; }\n  var comm = window.PyViz.comm_manager.get_client_comm(\"hv-extension-comm\", \"hv-extension-comm\", function () {});\n  if (server_id !== null) {\n    comm.send({event_type: 'server_delete', 'id': server_id});\n    return;\n  } else if (comm !== null) {\n    comm.send({event_type: 'delete', 'id': id});\n  }\n  delete PyViz.plot_index[id];\n  if ((window.Bokeh !== undefined) & (id in window.Bokeh.index)) {\n    var doc = window.Bokeh.index[id].model.document\n    doc.clear();\n    const i = window.Bokeh.documents.indexOf(doc);\n    if (i > -1) {\n      window.Bokeh.documents.splice(i, 1);\n    }\n  }\n}\n\n/**\n * Handle kernel restart event\n */\nfunction handle_kernel_cleanup(event, handle) {\n  delete PyViz.comms[\"hv-extension-comm\"];\n  window.PyViz.plot_index = {}\n}\n\n/**\n * Handle update_display_data messages\n */\nfunction handle_update_output(event, handle) {\n  handle_clear_output(event, {cell: {output_area: handle.output_area}})\n  handle_add_output(event, handle)\n}\n\nfunction register_renderer(events, OutputArea) {\n  function append_mime(data, metadata, element) {\n    // create a DOM node to render to\n    var toinsert = this.create_output_subarea(\n    metadata,\n    CLASS_NAME,\n    EXEC_MIME_TYPE\n    );\n    this.keyboard_manager.register_events(toinsert);\n    // Render to node\n    var props = {data: data, metadata: metadata[EXEC_MIME_TYPE]};\n    render(props, toinsert[0]);\n    element.append(toinsert);\n    return toinsert\n  }\n\n  events.on('output_added.OutputArea', handle_add_output);\n  events.on('output_updated.OutputArea', handle_update_output);\n  events.on('clear_output.CodeCell', handle_clear_output);\n  events.on('delete.Cell', handle_clear_output);\n  events.on('kernel_ready.Kernel', handle_kernel_cleanup);\n\n  OutputArea.prototype.register_mime_type(EXEC_MIME_TYPE, append_mime, {\n    safe: true,\n    index: 0\n  });\n}\n\nif (window.Jupyter !== undefined) {\n  try {\n    var events = require('base/js/events');\n    var OutputArea = require('notebook/js/outputarea').OutputArea;\n    if (OutputArea.prototype.mime_types().indexOf(EXEC_MIME_TYPE) == -1) {\n      register_renderer(events, OutputArea);\n    }\n  } catch(err) {\n  }\n}\n",
      "application/vnd.holoviews_load.v0+json": ""
     },
     "metadata": {},
     "output_type": "display_data"
    },
    {
     "data": {
      "application/vnd.holoviews_exec.v0+json": "",
      "text/html": [
       "<div id='p1002'>\n",
       "  <div id=\"de81a3d0-a9fc-46b4-993e-5fc38fa7ef09\" data-root-id=\"p1002\" style=\"display: contents;\"></div>\n",
       "</div>\n",
       "<script type=\"application/javascript\">(function(root) {\n",
       "  var docs_json = {\"1f2bc4a2-06c6-48df-89c7-24eef5407454\":{\"version\":\"3.5.2\",\"title\":\"Bokeh Application\",\"roots\":[{\"type\":\"object\",\"name\":\"panel.models.browser.BrowserInfo\",\"id\":\"p1002\"},{\"type\":\"object\",\"name\":\"panel.models.comm_manager.CommManager\",\"id\":\"p1003\",\"attributes\":{\"plot_id\":\"p1002\",\"comm_id\":\"482f8b75bd2f4e0f8d388d77e3533aaa\",\"client_comm_id\":\"e6f54b91914c4b048bae83d0e9998c13\"}}],\"defs\":[{\"type\":\"model\",\"name\":\"ReactiveHTML1\"},{\"type\":\"model\",\"name\":\"FlexBox1\",\"properties\":[{\"name\":\"align_content\",\"kind\":\"Any\",\"default\":\"flex-start\"},{\"name\":\"align_items\",\"kind\":\"Any\",\"default\":\"flex-start\"},{\"name\":\"flex_direction\",\"kind\":\"Any\",\"default\":\"row\"},{\"name\":\"flex_wrap\",\"kind\":\"Any\",\"default\":\"wrap\"},{\"name\":\"gap\",\"kind\":\"Any\",\"default\":\"\"},{\"name\":\"justify_content\",\"kind\":\"Any\",\"default\":\"flex-start\"}]},{\"type\":\"model\",\"name\":\"FloatPanel1\",\"properties\":[{\"name\":\"config\",\"kind\":\"Any\",\"default\":{\"type\":\"map\"}},{\"name\":\"contained\",\"kind\":\"Any\",\"default\":true},{\"name\":\"position\",\"kind\":\"Any\",\"default\":\"right-top\"},{\"name\":\"offsetx\",\"kind\":\"Any\",\"default\":null},{\"name\":\"offsety\",\"kind\":\"Any\",\"default\":null},{\"name\":\"theme\",\"kind\":\"Any\",\"default\":\"primary\"},{\"name\":\"status\",\"kind\":\"Any\",\"default\":\"normalized\"}]},{\"type\":\"model\",\"name\":\"GridStack1\",\"properties\":[{\"name\":\"mode\",\"kind\":\"Any\",\"default\":\"warn\"},{\"name\":\"ncols\",\"kind\":\"Any\",\"default\":null},{\"name\":\"nrows\",\"kind\":\"Any\",\"default\":null},{\"name\":\"allow_resize\",\"kind\":\"Any\",\"default\":true},{\"name\":\"allow_drag\",\"kind\":\"Any\",\"default\":true},{\"name\":\"state\",\"kind\":\"Any\",\"default\":[]}]},{\"type\":\"model\",\"name\":\"drag1\",\"properties\":[{\"name\":\"slider_width\",\"kind\":\"Any\",\"default\":5},{\"name\":\"slider_color\",\"kind\":\"Any\",\"default\":\"black\"},{\"name\":\"value\",\"kind\":\"Any\",\"default\":50}]},{\"type\":\"model\",\"name\":\"click1\",\"properties\":[{\"name\":\"terminal_output\",\"kind\":\"Any\",\"default\":\"\"},{\"name\":\"debug_name\",\"kind\":\"Any\",\"default\":\"\"},{\"name\":\"clears\",\"kind\":\"Any\",\"default\":0}]},{\"type\":\"model\",\"name\":\"FastWrapper1\",\"properties\":[{\"name\":\"object\",\"kind\":\"Any\",\"default\":null},{\"name\":\"style\",\"kind\":\"Any\",\"default\":null}]},{\"type\":\"model\",\"name\":\"NotificationAreaBase1\",\"properties\":[{\"name\":\"js_events\",\"kind\":\"Any\",\"default\":{\"type\":\"map\"}},{\"name\":\"position\",\"kind\":\"Any\",\"default\":\"bottom-right\"},{\"name\":\"_clear\",\"kind\":\"Any\",\"default\":0}]},{\"type\":\"model\",\"name\":\"NotificationArea1\",\"properties\":[{\"name\":\"js_events\",\"kind\":\"Any\",\"default\":{\"type\":\"map\"}},{\"name\":\"notifications\",\"kind\":\"Any\",\"default\":[]},{\"name\":\"position\",\"kind\":\"Any\",\"default\":\"bottom-right\"},{\"name\":\"_clear\",\"kind\":\"Any\",\"default\":0},{\"name\":\"types\",\"kind\":\"Any\",\"default\":[{\"type\":\"map\",\"entries\":[[\"type\",\"warning\"],[\"background\",\"#ffc107\"],[\"icon\",{\"type\":\"map\",\"entries\":[[\"className\",\"fas fa-exclamation-triangle\"],[\"tagName\",\"i\"],[\"color\",\"white\"]]}]]},{\"type\":\"map\",\"entries\":[[\"type\",\"info\"],[\"background\",\"#007bff\"],[\"icon\",{\"type\":\"map\",\"entries\":[[\"className\",\"fas fa-info-circle\"],[\"tagName\",\"i\"],[\"color\",\"white\"]]}]]}]}]},{\"type\":\"model\",\"name\":\"Notification\",\"properties\":[{\"name\":\"background\",\"kind\":\"Any\",\"default\":null},{\"name\":\"duration\",\"kind\":\"Any\",\"default\":3000},{\"name\":\"icon\",\"kind\":\"Any\",\"default\":null},{\"name\":\"message\",\"kind\":\"Any\",\"default\":\"\"},{\"name\":\"notification_type\",\"kind\":\"Any\",\"default\":null},{\"name\":\"_destroyed\",\"kind\":\"Any\",\"default\":false}]},{\"type\":\"model\",\"name\":\"TemplateActions1\",\"properties\":[{\"name\":\"open_modal\",\"kind\":\"Any\",\"default\":0},{\"name\":\"close_modal\",\"kind\":\"Any\",\"default\":0}]},{\"type\":\"model\",\"name\":\"BootstrapTemplateActions1\",\"properties\":[{\"name\":\"open_modal\",\"kind\":\"Any\",\"default\":0},{\"name\":\"close_modal\",\"kind\":\"Any\",\"default\":0}]},{\"type\":\"model\",\"name\":\"TemplateEditor1\",\"properties\":[{\"name\":\"layout\",\"kind\":\"Any\",\"default\":[]}]},{\"type\":\"model\",\"name\":\"MaterialTemplateActions1\",\"properties\":[{\"name\":\"open_modal\",\"kind\":\"Any\",\"default\":0},{\"name\":\"close_modal\",\"kind\":\"Any\",\"default\":0}]},{\"type\":\"model\",\"name\":\"ReactiveESM1\"},{\"type\":\"model\",\"name\":\"JSComponent1\"},{\"type\":\"model\",\"name\":\"ReactComponent1\"},{\"type\":\"model\",\"name\":\"AnyWidgetComponent1\"},{\"type\":\"model\",\"name\":\"request_value1\",\"properties\":[{\"name\":\"fill\",\"kind\":\"Any\",\"default\":\"none\"},{\"name\":\"_synced\",\"kind\":\"Any\",\"default\":null},{\"name\":\"_request_sync\",\"kind\":\"Any\",\"default\":0}]}]}};\n",
       "  var render_items = [{\"docid\":\"1f2bc4a2-06c6-48df-89c7-24eef5407454\",\"roots\":{\"p1002\":\"de81a3d0-a9fc-46b4-993e-5fc38fa7ef09\"},\"root_ids\":[\"p1002\"]}];\n",
       "  var docs = Object.values(docs_json)\n",
       "  if (!docs) {\n",
       "    return\n",
       "  }\n",
       "  const py_version = docs[0].version.replace('rc', '-rc.').replace('.dev', '-dev.')\n",
       "  async function embed_document(root) {\n",
       "    var Bokeh = get_bokeh(root)\n",
       "    await Bokeh.embed.embed_items_notebook(docs_json, render_items);\n",
       "    for (const render_item of render_items) {\n",
       "      for (const root_id of render_item.root_ids) {\n",
       "\tconst id_el = document.getElementById(root_id)\n",
       "\tif (id_el.children.length && id_el.children[0].hasAttribute('data-root-id')) {\n",
       "\t  const root_el = id_el.children[0]\n",
       "\t  root_el.id = root_el.id + '-rendered'\n",
       "\t  for (const child of root_el.children) {\n",
       "            // Ensure JupyterLab does not capture keyboard shortcuts\n",
       "            // see: https://jupyterlab.readthedocs.io/en/4.1.x/extension/notebook.html#keyboard-interaction-model\n",
       "\t    child.setAttribute('data-lm-suppress-shortcuts', 'true')\n",
       "\t  }\n",
       "\t}\n",
       "      }\n",
       "    }\n",
       "  }\n",
       "  function get_bokeh(root) {\n",
       "    if (root.Bokeh === undefined) {\n",
       "      return null\n",
       "    } else if (root.Bokeh.version !== py_version) {\n",
       "      if (root.Bokeh.versions === undefined || !root.Bokeh.versions.has(py_version)) {\n",
       "\treturn null\n",
       "      }\n",
       "      return root.Bokeh.versions.get(py_version);\n",
       "    } else if (root.Bokeh.version === py_version) {\n",
       "      return root.Bokeh\n",
       "    }\n",
       "    return null\n",
       "  }\n",
       "  function is_loaded(root) {\n",
       "    var Bokeh = get_bokeh(root)\n",
       "    return (Bokeh != null && Bokeh.Panel !== undefined)\n",
       "  }\n",
       "  if (is_loaded(root)) {\n",
       "    embed_document(root);\n",
       "  } else {\n",
       "    var attempts = 0;\n",
       "    var timer = setInterval(function(root) {\n",
       "      if (is_loaded(root)) {\n",
       "        clearInterval(timer);\n",
       "        embed_document(root);\n",
       "      } else if (document.readyState == \"complete\") {\n",
       "        attempts++;\n",
       "        if (attempts > 200) {\n",
       "          clearInterval(timer);\n",
       "\t  var Bokeh = get_bokeh(root)\n",
       "\t  if (Bokeh == null || Bokeh.Panel == null) {\n",
       "            console.warn(\"Panel: ERROR: Unable to run Panel code because Bokeh or Panel library is missing\");\n",
       "\t  } else {\n",
       "\t    console.warn(\"Panel: WARNING: Attempting to render but not all required libraries could be resolved.\")\n",
       "\t    embed_document(root)\n",
       "\t  }\n",
       "        }\n",
       "      }\n",
       "    }, 25, root)\n",
       "  }\n",
       "})(window);</script>"
      ]
     },
     "metadata": {
      "application/vnd.holoviews_exec.v0+json": {
       "id": "p1002"
      }
     },
     "output_type": "display_data"
    }
   ],
   "source": [
    "import warnings\n",
    "warnings.simplefilter(action='ignore', category=FutureWarning)\n",
    "\n",
    "import os\n",
    "import pathlib\n",
    "import zipfile\n",
    "from glob import glob\n",
    "from urllib.request import urlretrieve\n",
    "\n",
    "import pandas as pd\n",
    "import geopandas as gpd\n",
    "\n",
    "# interactive plots of vector data\n",
    "import hvplot.pandas"
   ]
  },
  {
   "cell_type": "markdown",
   "metadata": {},
   "source": [
    "Load Data"
   ]
  },
  {
   "cell_type": "code",
   "execution_count": 22,
   "metadata": {},
   "outputs": [],
   "source": [
    "# Define downloads directory\n",
    "downloads_dir = os.path.join(\n",
    "    # Home directory\n",
    "    pathlib.Path.home(),\n",
    "    'Downloads'\n",
    ")\n",
    "\n",
    "# Create project data directory \n",
    "data_dir = os.path.join(\n",
    "    # Home directory\n",
    "    pathlib.Path.home(),\n",
    "    'Projects',\n",
    "    # Project directory\n",
    "    'habitat-suitability',\n",
    "    'data'\n",
    ")\n",
    "\n",
    "# Define the directory name for USFS data\n",
    "grassland_units_dir = os.path.join(data_dir, 'usfs-national-grasslands')\n",
    "\n",
    "os.makedirs(downloads_dir, exist_ok=True)\n",
    "os.makedirs(data_dir, exist_ok=True)"
   ]
  },
  {
   "cell_type": "code",
   "execution_count": 23,
   "metadata": {},
   "outputs": [
    {
     "data": {
      "text/html": [
       "<div>\n",
       "<style scoped>\n",
       "    .dataframe tbody tr th:only-of-type {\n",
       "        vertical-align: middle;\n",
       "    }\n",
       "\n",
       "    .dataframe tbody tr th {\n",
       "        vertical-align: top;\n",
       "    }\n",
       "\n",
       "    .dataframe thead th {\n",
       "        text-align: right;\n",
       "    }\n",
       "</style>\n",
       "<table border=\"1\" class=\"dataframe\">\n",
       "  <thead>\n",
       "    <tr style=\"text-align: right;\">\n",
       "      <th></th>\n",
       "      <th>NATIONALGR</th>\n",
       "      <th>GRASSLANDN</th>\n",
       "      <th>GIS_ACRES</th>\n",
       "      <th>SHAPE_AREA</th>\n",
       "      <th>SHAPE_LEN</th>\n",
       "      <th>geometry</th>\n",
       "    </tr>\n",
       "  </thead>\n",
       "  <tbody>\n",
       "    <tr>\n",
       "      <th>0</th>\n",
       "      <td>281771010328</td>\n",
       "      <td>Fort Pierre National Grassland</td>\n",
       "      <td>209044.225</td>\n",
       "      <td>0.095149</td>\n",
       "      <td>1.455518</td>\n",
       "      <td>POLYGON ((-100.08409 44.28162, -100.08409 44.2...</td>\n",
       "    </tr>\n",
       "    <tr>\n",
       "      <th>1</th>\n",
       "      <td>295507010328</td>\n",
       "      <td>Butte Valley National Grassland</td>\n",
       "      <td>19489.170</td>\n",
       "      <td>0.008557</td>\n",
       "      <td>0.853736</td>\n",
       "      <td>MULTIPOLYGON (((-121.996 41.84049, -121.996 41...</td>\n",
       "    </tr>\n",
       "    <tr>\n",
       "      <th>2</th>\n",
       "      <td>295508010328</td>\n",
       "      <td>Kiowa National Grassland</td>\n",
       "      <td>144281.321</td>\n",
       "      <td>0.058543</td>\n",
       "      <td>9.858642</td>\n",
       "      <td>MULTIPOLYGON (((-104.30414 36.08063, -104.3041...</td>\n",
       "    </tr>\n",
       "    <tr>\n",
       "      <th>3</th>\n",
       "      <td>295509010328</td>\n",
       "      <td>Sheyenne National Grassland</td>\n",
       "      <td>70428.175</td>\n",
       "      <td>0.033356</td>\n",
       "      <td>4.097398</td>\n",
       "      <td>MULTIPOLYGON (((-97.31081 46.51457, -97.30559 ...</td>\n",
       "    </tr>\n",
       "    <tr>\n",
       "      <th>4</th>\n",
       "      <td>295510010328</td>\n",
       "      <td>Cedar River National Grassland</td>\n",
       "      <td>6717.517</td>\n",
       "      <td>0.003157</td>\n",
       "      <td>0.999947</td>\n",
       "      <td>MULTIPOLYGON (((-101.82221 45.95896, -101.8170...</td>\n",
       "    </tr>\n",
       "  </tbody>\n",
       "</table>\n",
       "</div>"
      ],
      "text/plain": [
       "     NATIONALGR                       GRASSLANDN   GIS_ACRES  SHAPE_AREA  \\\n",
       "0  281771010328   Fort Pierre National Grassland  209044.225    0.095149   \n",
       "1  295507010328  Butte Valley National Grassland   19489.170    0.008557   \n",
       "2  295508010328         Kiowa National Grassland  144281.321    0.058543   \n",
       "3  295509010328      Sheyenne National Grassland   70428.175    0.033356   \n",
       "4  295510010328   Cedar River National Grassland    6717.517    0.003157   \n",
       "\n",
       "   SHAPE_LEN                                           geometry  \n",
       "0   1.455518  POLYGON ((-100.08409 44.28162, -100.08409 44.2...  \n",
       "1   0.853736  MULTIPOLYGON (((-121.996 41.84049, -121.996 41...  \n",
       "2   9.858642  MULTIPOLYGON (((-104.30414 36.08063, -104.3041...  \n",
       "3   4.097398  MULTIPOLYGON (((-97.31081 46.51457, -97.30559 ...  \n",
       "4   0.999947  MULTIPOLYGON (((-101.82221 45.95896, -101.8170...  "
      ]
     },
     "execution_count": 23,
     "metadata": {},
     "output_type": "execute_result"
    }
   ],
   "source": [
    "# Only download once\n",
    "usfs_pattern = os.path.join(grassland_units_dir, '*.shp')\n",
    "\n",
    "if not glob(usfs_pattern):\n",
    "    usfs_zip = f'{downloads_dir}/S_USA.NationalGrassland.zip'\n",
    "\n",
    "    # Unzip data\n",
    "    with zipfile.ZipFile(usfs_zip, 'r') as zip:\n",
    "        zip.extractall(path=grassland_units_dir)\n",
    "\n",
    "# Find the extracted .shp file path\n",
    "usfs_path = glob(usfs_pattern)[0]\n",
    "\n",
    "# Load USFS grasslands units from shapefile\n",
    "usfs_grasslands_gdf = (\n",
    "    gpd.read_file(usfs_path)\n",
    ")\n",
    "\n",
    "usfs_grasslands_gdf.head()"
   ]
  },
  {
   "cell_type": "code",
   "execution_count": 20,
   "metadata": {},
   "outputs": [
    {
     "data": {},
     "metadata": {},
     "output_type": "display_data"
    },
    {
     "data": {
      "application/vnd.holoviews_exec.v0+json": "",
      "text/html": [
       "<div id='p1406'>\n",
       "  <div id=\"b8871edd-b2a7-41a6-89e7-d67a1f0208e7\" data-root-id=\"p1406\" style=\"display: contents;\"></div>\n",
       "</div>\n",
       "<script type=\"application/javascript\">(function(root) {\n",
       "  var docs_json = {\"66ffdbb4-e4e5-453f-8859-91b2a53dae9a\":{\"version\":\"3.5.2\",\"title\":\"Bokeh Application\",\"roots\":[{\"type\":\"object\",\"name\":\"Row\",\"id\":\"p1406\",\"attributes\":{\"name\":\"Row02023\",\"tags\":[\"embedded\"],\"stylesheets\":[\"\\n:host(.pn-loading):before, .pn-loading:before {\\n  background-color: #c3c3c3;\\n  mask-size: auto calc(min(50%, 400px));\\n  -webkit-mask-size: auto calc(min(50%, 400px));\\n}\",{\"type\":\"object\",\"name\":\"ImportedStyleSheet\",\"id\":\"p1409\",\"attributes\":{\"url\":\"https://cdn.holoviz.org/panel/1.5.2/dist/css/loading.css\"}},{\"type\":\"object\",\"name\":\"ImportedStyleSheet\",\"id\":\"p1513\",\"attributes\":{\"url\":\"https://cdn.holoviz.org/panel/1.5.2/dist/css/listpanel.css\"}},{\"type\":\"object\",\"name\":\"ImportedStyleSheet\",\"id\":\"p1407\",\"attributes\":{\"url\":\"https://cdn.holoviz.org/panel/1.5.2/dist/bundled/theme/default.css\"}},{\"type\":\"object\",\"name\":\"ImportedStyleSheet\",\"id\":\"p1408\",\"attributes\":{\"url\":\"https://cdn.holoviz.org/panel/1.5.2/dist/bundled/theme/native.css\"}}],\"margin\":0,\"sizing_mode\":\"stretch_width\",\"align\":\"start\",\"children\":[{\"type\":\"object\",\"name\":\"Spacer\",\"id\":\"p1410\",\"attributes\":{\"name\":\"HSpacer02029\",\"stylesheets\":[\"\\n:host(.pn-loading):before, .pn-loading:before {\\n  background-color: #c3c3c3;\\n  mask-size: auto calc(min(50%, 400px));\\n  -webkit-mask-size: auto calc(min(50%, 400px));\\n}\",{\"id\":\"p1409\"},{\"id\":\"p1407\"},{\"id\":\"p1408\"}],\"margin\":0,\"sizing_mode\":\"stretch_width\",\"align\":\"start\"}},{\"type\":\"object\",\"name\":\"Figure\",\"id\":\"p1462\",\"attributes\":{\"width\":null,\"height\":null,\"margin\":[5,10],\"sizing_mode\":\"fixed\",\"align\":\"start\",\"x_range\":{\"type\":\"object\",\"name\":\"Range1d\",\"id\":\"p1426\",\"attributes\":{\"tags\":[[[\"Longitude\",null]],[]],\"start\":-13589872.234964417,\"end\":-13567934.931716457,\"reset_start\":-13589872.234964417,\"reset_end\":-13567934.931716457,\"min_interval\":5}},\"y_range\":{\"type\":\"object\",\"name\":\"Range1d\",\"id\":\"p1427\",\"attributes\":{\"tags\":[[[\"Latitude\",null]],{\"type\":\"map\",\"entries\":[[\"invert_yaxis\",false],[\"autorange\",false]]}],\"start\":5133641.289726839,\"end\":5155674.96803133,\"reset_start\":5133641.289726839,\"reset_end\":5155674.96803133,\"min_interval\":5}},\"x_scale\":{\"type\":\"object\",\"name\":\"LinearScale\",\"id\":\"p1472\"},\"y_scale\":{\"type\":\"object\",\"name\":\"LinearScale\",\"id\":\"p1473\"},\"title\":{\"type\":\"object\",\"name\":\"Title\",\"id\":\"p1465\",\"attributes\":{\"text\":\"Butte Valley National Grassland\",\"text_color\":\"black\",\"text_font_size\":\"12pt\"}},\"renderers\":[{\"type\":\"object\",\"name\":\"TileRenderer\",\"id\":\"p1495\",\"attributes\":{\"level\":\"underlay\",\"tile_source\":{\"type\":\"object\",\"name\":\"WMTSTileSource\",\"id\":\"p1491\",\"attributes\":{\"url\":\"https://server.arcgisonline.com/ArcGIS/rest/services/World_Imagery/MapServer/tile/{Z}/{Y}/{X}.jpg\",\"attribution\":\"&copy; <a href=\\\"http://downloads.esri.com/ArcGISOnline/docs/tou_summary.pdf\\\">Esri</a>, Earthstar Geographics\"}}}},{\"type\":\"object\",\"name\":\"GlyphRenderer\",\"id\":\"p1506\",\"attributes\":{\"data_source\":{\"type\":\"object\",\"name\":\"ColumnDataSource\",\"id\":\"p1497\",\"attributes\":{\"selected\":{\"type\":\"object\",\"name\":\"Selection\",\"id\":\"p1498\",\"attributes\":{\"indices\":[],\"line_indices\":[]}},\"selection_policy\":{\"type\":\"object\",\"name\":\"UnionRenderers\",\"id\":\"p1499\"},\"data\":{\"type\":\"map\",\"entries\":[[\"xs\",[[[{\"type\":\"ndarray\",\"array\":{\"type\":\"bytes\",\"data\":\"e2T2FOXhacHiRB7n4uFpwW+farng4WnB03+Si97hacE6YLpd3OFpwaDpDxf+4WnBCnNl0B/iacE5KvVCY+JpwTe9pLym4mnB7L8HleviacFT71WbLuNpwctbtqFx42nBL5mBJZPjacEi9VWptONpwe1v7LD342nBTsSO1vjjacESvRX8+eNpwfHwQTz742nBOMlSfPzjacHoDo04uuNpwXmipRaZ42nBl1TH9HfjacGqPuawNeNpwVqEIG3z4mnBmCSudK7iacFKFOIza+JpwdgdYyQo4mnBPdXEnebhacE=\"},\"shape\":[28],\"dtype\":\"float64\",\"order\":\"little\"}],[{\"type\":\"ndarray\",\"array\":{\"type\":\"bytes\",\"data\":\"Vgo/jh7nacFBzSyOHudpwfLq441h52nBh+q6DYPnacHEJOXNgudpwXZABo6C52nBfZNC46PnacEgXVLZ5udpwcUmYs8p6GnBQG7JjCroacFqvCnmKuhpwZcKij8r6GnB7PNrIW3oacFF3U0Dr+hpwWDPGVLy6GnBaSGRBDjpacHYbhbTN+lpwSBCd6E36WnBio/8bzfpacH53IE+N+lpwUGw4gw36WnBsP1n2zbpacGLjwRl8OhpwSGW/UWt6GnBRJtbea3oacHdgbCsrehpwTuxzt+t6GnBCKj2Ea7oacHZ9Cu6ruhpwb5+c2Kv6GnBYedNtrHoacEF08s/1ehpweGlLWTz6GnBfPth5PPoacHGQ4IG9OhpwaNvSqgG6WnBrhak2SLpacHQ9zwPNelpwVBLZNo16WnBA1cb2jXpacHdecIvN+lpwUUsty5F6WnBU6STWmXpacFl9C0DeelpwSKvUG166WnBulP3iYPpacG9S2GMpOlpwYnUKSW86WnBKAkx8L3pacFohmHrv+lpwdKrdcLh6WnBqa5FQP/pacF9QjnIAOppwQW7+fAA6mnBt0dyfhvqacGge+ZTQuppwYs+1FNC6mnBP8fA7YXqacHiEpuHyeppwZpX8WXJ6mnBsUAsRMnqacH0q3gjhuppwTUXxQJD6mnBlRKwwf/pacGCLKSAvOlpweAnjz956WnBap2e/jXpacG78X4uNulpwQtGX1426WnBc9dRjjbpacFhh02+NulpwVE3Se426WnBQedEHjfpacGleDdON+lpwZUoM3436WnBIDRKrjfpacEQ5EXeN+lpwc9DpOc36WnBjKMC8TfpacFNHU77N+lpwR/UqwU46WnBsPM3fPnoacHXVp4Ytuhpwc1+j7Jy6GnBJ0tlTC/oacGMjRzd6+dpwdqSwW2o52nBO9V4/mTnacHufgKPIedpwYzreR/e5mnBPJUDsJrmacHtPo1AV+ZpwYurBNET5mnBmMLmedPlacG7Ftsik+VpwcotvctS5WnBd6C6dBLlacFI7u5iFeVpwSVFW08Y5WnBtKd+OxvlacF9wdgnHuVpwdFlAqsc5WnBJQosLhvlacHcUjqxGeVpwS/3YzQY5WnB7oiCzxXlacGvGqFqE+VpwXCsvwUR5WnBLz7eoA7lacFbGlNtT+VpwSZS4zmQ5WnBYmtqBtHlacEto/rSEeZpwdB9ZlkR5mnB6znJ3xDmacFtR1RuEOZpwVT5w/wP5mnBuWZG6w/macEa1MjZD+ZpwWoEOcgP5mnBz3G7tg/macGudwJnD+ZpwRji/EUP5mnB8yEuFw/macEzzFnHDuZpwRfSoHcO5mnBGwiP7MrlacE3e49hh+VpwVDuj9ZD5WnBVSR+SwDlacHJXyX7AOVpwbMJOqsB5WnB7e1IAwLlacGhs05bAuVpwVJ5VLMC5WnBAj9aCwPlacHrz5VrBOVpwbdj/klH5WnB5ZtLKIrlacGxL7QGzeVpwd1nAeUP5mnBfb5XCBDmacEG2JsrEOZpwWuK1nhT5mnBNeH1xZbmacF/5hWq2uZpwcVkHOAY52nBaEdRjh7nacFoR1GOHudpwTPJsvMe52nBF8yLMSznacGREvSoKudpwd0oSI4e52nBVgo/jh7nacE=\"},\"shape\":[154],\"dtype\":\"float64\",\"order\":\"little\"},{\"type\":\"ndarray\",\"array\":{\"type\":\"bytes\",\"data\":\"W8F2lFLmacGtjNoAMeZpwQNL45Iw5mnBgalmMFLmacFbwXaUUuZpwQ==\"},\"shape\":[5],\"dtype\":\"float64\",\"order\":\"little\"},{\"type\":\"ndarray\",\"array\":{\"type\":\"bytes\",\"data\":\"o+2cu5XmacGB1wkodOZpwY8m881z5mnBIsKIa5XmacGj7Zy7leZpwQ==\"},\"shape\":[5],\"dtype\":\"float64\",\"order\":\"little\"},{\"type\":\"ndarray\",\"array\":{\"type\":\"bytes\",\"data\":\"EJon1RvnacGp8W/I2OZpwUs6oHHY5mnBdrK3dxvnacEQmifVG+dpwQ==\"},\"shape\":[5],\"dtype\":\"float64\",\"order\":\"little\"},{\"type\":\"ndarray\",\"array\":{\"type\":\"bytes\",\"data\":\"NR4FlyfnacFRXVRkJ+dpwRENCrMk52nBOJNyhR7nacHNCeKsHOdpwQOW6Fn85mnBXkeiKPHmacFvpVJ+2+Zpwc8kMaIL52nBKz7FvBznacHr5OgeHedpwUDYrhQh52nBpHUiESbnacEAEJf0M+dpwbjFI4pB52nBy74wCT3nacGHLPCrHedpwchC23kZ52nBYyLNmx3nacHz8bzdHedpwfvwOdMh52nBxrAu/C3nacE1HgWXJ+dpwQ==\"},\"shape\":[23],\"dtype\":\"float64\",\"order\":\"little\"},{\"type\":\"ndarray\",\"array\":{\"type\":\"bytes\",\"data\":\"B/JsDoLnacEILcLjYOdpwaHcwvdf52nBnNtXQ4HnacEH8mwOgudpwQ==\"},\"shape\":[5],\"dtype\":\"float64\",\"order\":\"little\"},{\"type\":\"ndarray\",\"array\":{\"type\":\"bytes\",\"data\":\"lEaFX7voacFNd85Du+hpwafihuDR6GnB8csq/dHoacGURoVfu+hpwQ==\"},\"shape\":[5],\"dtype\":\"float64\",\"order\":\"little\"},{\"type\":\"ndarray\",\"array\":{\"type\":\"bytes\",\"data\":\"TXfOQ7voacG8djoWd+hpwbWUr+gy6GnBo/3zsTHoacGWZjh7MOhpwS4FyJN06GnBUcJgrLjoacHNnBf4uehpwU13zkO76GnB\"},\"shape\":[9],\"dtype\":\"float64\",\"order\":\"little\"}],[{\"type\":\"ndarray\",\"array\":{\"type\":\"bytes\",\"data\":\"Qc0sjh7nacFV+EUH2+ZpwczHQ4CX5mnBP5dB+VPmacHMo1FyEOZpwRnKPiAQ5mnB4dEizg/macH93MDzUuZpwbZDehmW5mnBf/opHdrmacE0dMcgHudpwXWRdVce52nB\"},\"shape\":[12],\"dtype\":\"float64\",\"order\":\"little\"}],[{\"type\":\"ndarray\",\"array\":{\"type\":\"bytes\",\"data\":\"K/D9X3LlacEOg6TKSOVpwUsGmmQG5WnBwJZIywXlacFIZAkyBeVpwXDP7I0E5WnBmzrQ6QPlacGaWv3cRuVpwb70TtCJ5WnBRTOFw8zlacGgf7zR3+VpwSM7zNr75WnBLO4OJd7lacFWbA4n2uVpwVnLaRbN5WnBRHrc0sXlacGz85ORzOVpwRpEqOjL5WnBPkzbXsblacG3OCxWvOVpwVS/1jWu5WnBVlegtKTlacGhj2QIpOVpwaiBU/mh5WnBkG+7bZXlacEuLx/JlOVpwbTvPMCP5WnB37Atko/lacHpyJ+7kOVpwR7YjRGc5WnBN2ADco3lacEZswkfm+VpwRSoXcKb5WnB5TzBMIvlacE=\"},\"shape\":[34],\"dtype\":\"float64\",\"order\":\"little\"}]]]],[\"ys\",[[[{\"type\":\"ndarray\",\"array\":{\"type\":\"bytes\",\"data\":\"KY/Xbp+gU0EcycmCFqBTQeJ675iNn1NBH4zmsASfU0GOZcfKe55TQcs9zM57nlNBxppW0nueU0EpTS/ae55TQew3dMJ7nlNBp/QD/XueU0Hy6zvNfJ5TQRFlvZ19nlNBlrhYCn6eU0EZEZJ2fp5TQRlDTk9/nlNBbRpkzwafU0GBxXFRjp9TQaPg0NgVoFNBdJcPYp2gU0Fa3P6hnaBTQe9/J8KdoFNBqSHu4Z2gU0FtZ90hnqBTQaWtzGGeoFNBDWhXn56gU0GGO7DInqBTQfrkwxufoFNBToXtbJ+gU0E=\"},\"shape\":[28],\"dtype\":\"float64\",\"order\":\"little\"}],[{\"type\":\"ndarray\",\"array\":{\"type\":\"bytes\",\"data\":\"w4lQ1LaYU0F9txiML5hTQS9oEpoumFNB63VMIS6YU0GnA1zscZhTQQqS6be1mFNBPGtIWLWYU0H9rryYtJhTQfZgFtezmFNBhZUwxCuYU0GaRPCJpJdTQeWh7lEdl1NBK7sUOh6XU0Gx4QcgH5dTQe05bAkgl1NBKqXW+CCXU0HvNnS1p5dTQZ/66nMumFNB4RnZM7WYU0HjggL2O5lTQeFo1LnCmVNBOE3Jf0maU0GBvX34SZpTQWLcSmZKmlNBCJB5EdKaU0HUGz++WZtTQRcgFfbgm1NB0U/ZjGWcU0GdSkJG7JxTQS00nQFznVNBX+p0/nKdU0HSQbpFu51TQQGn5lX4nVNBMXeuWfmdU0Gk1MOe+Z1TQUCbPl0fnlNBK4OWjFeeU0GIFRCse55TQRkKAj99nlNBlq1T4X+eU0GCkTLkf55TQcoRuKebnlNBn46+rtyeU0EdWWMnBJ9TQVD8eP4Gn1NBpnP1SRmfU0HVAzsCW59TQTjGd/qJn1NBMxk1jI2fU0Fma759kZ9TQfNd9j/Vn1NB/hifKRCgU0Gg5604E6BTQUfQvYkToFNBsXimV0igU0HMOO+4mKBTQRWQOv6YoFNBCSVDt5qgU0HXzktwnKBTQVTqG34joVNBci75jaqhU0G6WZSEqKFTQbMLXnmmoVNBYsa8BKehU0EO73qOp6FTQZ3/HRaooVNBlnvvm6ihU0FGj8lSL6JTQQPcxgu2olNBtn8YxzyjU0HrCESEw6NTQe8QYkNKpFNBZjKLBNGkU0Fkfo7HV6VTQSqHU4zepVNBgHM8U2WmU0FoUxgc7KZTQUaNsdJyp1NBPdlVi/mnU0Fs5oJIgKhTQc/CogcHqVNBy6oQSQepU0EwWZKPB6lTQZWaXdYHqVNBhtwoHQipU0EyO19qCKlTQYqalbcIqVNBffrLBAmpU0FH4RpSCalTQVWxCqEJqVNBD4L67wmpU0FzU+o+CqlTQYQl2o0KqVNBTLnR2QqpU0Ey4BImC6lTQbkHVHILqVNB3y+VvgupU0FTW+QUhKhTQXps9cP8p1NBCsODfXWnU0FQnYIw7qZTQftaE+NmplNB1m/kl9+lU0GkLntOWKVTQT8F8AbRpFNBwU5YuUqkU0Hzzk1txKNTQT3+SiM+o1NBo8Ae27eiU0Go3PscuKJTQfb8CV+4olNB6RnnoLiiU0FWN8TiuKJTQZKruX8xolNBCEF1HqqhU0E8KmsQI6FTQQ6tJAScoFNBt3PWWRegU0EqtVKxkp9TQQ9bygoOn1NB6k8MZomeU0EPkCiAAZ5TQTRUwlDJnVNBnP71m3mdU0H4ege68ZxTQbd14tlpnFNBOpmxb2mcU0HzRDcFaZxTQYzoHptonFNBr5akMGicU0G5Tmph4ZtTQbVJaXFam1NBUkN3zjibU0FiRKQrF5tTQZ5M8Ij1mlNBnltb5tOaU0H00z1dTZpTQYKi+zVMmlNBZ3q5DkuaU0GgW3fnSZpTQfTJHMBImlNB5F4PUsKZU0Hl5DrmO5lTQWARWnY8mVNBFgzZBD2ZU0HBLJSSPZlTQWBF0xI+mVNBZCR+Hj6ZU0E8UHmvKZlTQd7CuhIpmVNB25wnMhWZU0Hy8SSI0ZhTQaqdqw/XmFNBw4lQ1LaYU0E=\"},\"shape\":[154],\"dtype\":\"float64\",\"order\":\"little\"},{\"type\":\"ndarray\",\"array\":{\"type\":\"bytes\",\"data\":\"CvldP9CaU0FPu5yxz5pTQY+uSDRWm1NB8kiC31abU0EK+V0/0JpTQQ==\"},\"shape\":[5],\"dtype\":\"float64\",\"order\":\"little\"},{\"type\":\"ndarray\",\"array\":{\"type\":\"bytes\",\"data\":\"jLFYWdGaU0H+yaTM0JpTQahvcopXm1NB0KvPNFibU0GMsVhZ0ZpTQQ==\"},\"shape\":[5],\"dtype\":\"float64\",\"order\":\"little\"},{\"type\":\"ndarray\",\"array\":{\"type\":\"bytes\",\"data\":\"+qg+itOaU0FgCqhy0ppTQbd2PodZm1NBDRR611qbU0H6qD6K05pTQQ==\"},\"shape\":[5],\"dtype\":\"float64\",\"order\":\"little\"},{\"type\":\"ndarray\",\"array\":{\"type\":\"bytes\",\"data\":\"j+8VZkiZU0Fvd845SJlTQVmM/3pGmVNBzPmEFkKZU0F3LHXGQJlTQZC3PdXEmVNBvyeujvKZU0Hy5hlnS5pTQZEy+gdMmlNBwgyfYA6aU0H4tu7+DJpTQU34fp7+mVNBNs/Pu+yZU0HlJmGy+5lTQXOUrODJmVNBNht4C8WZU0EqLBljo5lTQbY/deKemVNBXsS2Jo6ZU0G+LeIbjZlTQUC3Bxd9mVNB4i077EyZU0GP7xVmSJlTQQ==\"},\"shape\":[23],\"dtype\":\"float64\",\"order\":\"little\"},{\"type\":\"ndarray\",\"array\":{\"type\":\"bytes\",\"data\":\"DFMEUD2ZU0Gjr0GVPZlTQbIMHuXEmVNBfbxLwMSZU0EMUwRQPZlTQQ==\"},\"shape\":[5],\"dtype\":\"float64\",\"order\":\"little\"},{\"type\":\"ndarray\",\"array\":{\"type\":\"bytes\",\"data\":\"NrWlHGWmU0E9Ddjm66ZTQQUfkvHrplNBLRIWJ2WmU0E2taUcZaZTQQ==\"},\"shape\":[5],\"dtype\":\"float64\",\"order\":\"little\"},{\"type\":\"ndarray\",\"array\":{\"type\":\"bytes\",\"data\":\"PQ3Y5uumU0EYvw6n66ZTQWBxRWfrplNBOgL9c3OnU0HMBYCC+6dTQc3HSwP7p1NBaI7jgfqnU0H5Ioczc6dTQT0N2ObrplNB\"},\"shape\":[9],\"dtype\":\"float64\",\"order\":\"little\"}],[{\"type\":\"ndarray\",\"array\":{\"type\":\"bytes\",\"data\":\"fbcYjC+YU0EWlvltL5hTQXZqC1AvmFNBSEnsMS+YU0FgrbQTL5hTQf4uP/Sol1NBqNSF1iKXU0HKIcITIpdTQX30404hl1NBMlS4hSCXU0HUOXK6H5dTQf0OPKKnl1NB\"},\"shape\":[12],\"dtype\":\"float64\",\"order\":\"little\"}],[{\"type\":\"ndarray\",\"array\":{\"type\":\"bytes\",\"data\":\"hymQT5ygU0GZDC9jnKBTQbArrIKcoFNBQbtAvRWgU0GPumX5jp9TQdNS8IEIn1NBSIeDDIKeU0HMsxzjg55TQcp6bLmFnlNBf1m8j4eeU0FU18sViJ5TQYH+0dqInlNBSmEpBQ2fU0EGxm7HHp9TQcjl7atYn1NBg7+723ifU0HX48nnjp9TQSHRsMGRn1NBb+8XsamfU0E2v5S8pJ9TQXLEvwXjn1NBokvgs9mfU0EVtOQF2p9TQXtWprfhn1NBvk++6xOgU0EibeqcFqBTQWmay7AroFNBL5vXtC2gU0G3STfBL6BTQS7vFno7oFNBgJQraHigU0GTR1WIhaBTQQnFpzucoFNBLmxoQ5ygU0E=\"},\"shape\":[34],\"dtype\":\"float64\",\"order\":\"little\"}]]]]]}}},\"view\":{\"type\":\"object\",\"name\":\"CDSView\",\"id\":\"p1507\",\"attributes\":{\"filter\":{\"type\":\"object\",\"name\":\"AllIndices\",\"id\":\"p1508\"}}},\"glyph\":{\"type\":\"object\",\"name\":\"MultiPolygons\",\"id\":\"p1503\",\"attributes\":{\"xs\":{\"type\":\"field\",\"field\":\"xs\"},\"ys\":{\"type\":\"field\",\"field\":\"ys\"},\"line_color\":{\"type\":\"value\",\"value\":\"lightblue\"},\"line_width\":{\"type\":\"value\",\"value\":3},\"fill_color\":{\"type\":\"value\",\"value\":null},\"hatch_color\":{\"type\":\"value\",\"value\":\"#30a2da\"}}},\"selection_glyph\":{\"type\":\"object\",\"name\":\"MultiPolygons\",\"id\":\"p1509\",\"attributes\":{\"xs\":{\"type\":\"field\",\"field\":\"xs\"},\"ys\":{\"type\":\"field\",\"field\":\"ys\"},\"line_color\":{\"type\":\"value\",\"value\":\"lightblue\"},\"line_alpha\":{\"type\":\"value\",\"value\":1.0},\"line_width\":{\"type\":\"value\",\"value\":3},\"line_join\":{\"type\":\"value\",\"value\":\"bevel\"},\"line_cap\":{\"type\":\"value\",\"value\":\"butt\"},\"line_dash\":{\"type\":\"value\",\"value\":[]},\"line_dash_offset\":{\"type\":\"value\",\"value\":0},\"fill_color\":{\"type\":\"value\",\"value\":null},\"fill_alpha\":{\"type\":\"value\",\"value\":1.0},\"hatch_color\":{\"type\":\"value\",\"value\":\"#30a2da\"},\"hatch_alpha\":{\"type\":\"value\",\"value\":1.0},\"hatch_scale\":{\"type\":\"value\",\"value\":12.0},\"hatch_pattern\":{\"type\":\"value\",\"value\":null},\"hatch_weight\":{\"type\":\"value\",\"value\":1.0}}},\"nonselection_glyph\":{\"type\":\"object\",\"name\":\"MultiPolygons\",\"id\":\"p1504\",\"attributes\":{\"xs\":{\"type\":\"field\",\"field\":\"xs\"},\"ys\":{\"type\":\"field\",\"field\":\"ys\"},\"line_color\":{\"type\":\"value\",\"value\":\"lightblue\"},\"line_alpha\":{\"type\":\"value\",\"value\":0.1},\"line_width\":{\"type\":\"value\",\"value\":3},\"fill_color\":{\"type\":\"value\",\"value\":null},\"fill_alpha\":{\"type\":\"value\",\"value\":0.1},\"hatch_color\":{\"type\":\"value\",\"value\":\"#30a2da\"},\"hatch_alpha\":{\"type\":\"value\",\"value\":0.1}}},\"muted_glyph\":{\"type\":\"object\",\"name\":\"MultiPolygons\",\"id\":\"p1505\",\"attributes\":{\"xs\":{\"type\":\"field\",\"field\":\"xs\"},\"ys\":{\"type\":\"field\",\"field\":\"ys\"},\"line_color\":{\"type\":\"value\",\"value\":\"lightblue\"},\"line_alpha\":{\"type\":\"value\",\"value\":0.2},\"line_width\":{\"type\":\"value\",\"value\":3},\"fill_color\":{\"type\":\"value\",\"value\":null},\"fill_alpha\":{\"type\":\"value\",\"value\":0.2},\"hatch_color\":{\"type\":\"value\",\"value\":\"#30a2da\"},\"hatch_alpha\":{\"type\":\"value\",\"value\":0.2}}}}}],\"toolbar\":{\"type\":\"object\",\"name\":\"Toolbar\",\"id\":\"p1471\",\"attributes\":{\"tools\":[{\"type\":\"object\",\"name\":\"WheelZoomTool\",\"id\":\"p1430\",\"attributes\":{\"renderers\":\"auto\",\"zoom_on_axis\":false}},{\"type\":\"object\",\"name\":\"BoxZoomTool\",\"id\":\"p1438\",\"attributes\":{\"overlay\":{\"type\":\"object\",\"name\":\"BoxAnnotation\",\"id\":\"p1431\",\"attributes\":{\"syncable\":false,\"line_color\":\"black\",\"line_alpha\":1.0,\"line_width\":2,\"line_dash\":[4,4],\"fill_color\":\"lightgrey\",\"fill_alpha\":0.5,\"level\":\"overlay\",\"visible\":false,\"left\":{\"type\":\"number\",\"value\":\"nan\"},\"right\":{\"type\":\"number\",\"value\":\"nan\"},\"top\":{\"type\":\"number\",\"value\":\"nan\"},\"bottom\":{\"type\":\"number\",\"value\":\"nan\"},\"left_units\":\"canvas\",\"right_units\":\"canvas\",\"top_units\":\"canvas\",\"bottom_units\":\"canvas\",\"handles\":{\"type\":\"object\",\"name\":\"BoxInteractionHandles\",\"id\":\"p1012\",\"attributes\":{\"all\":{\"type\":\"object\",\"name\":\"AreaVisuals\",\"id\":\"p1011\",\"attributes\":{\"fill_color\":\"white\",\"hover_fill_color\":\"lightgray\"}}}}}},\"match_aspect\":true}},{\"type\":\"object\",\"name\":\"PanTool\",\"id\":\"p1485\"},{\"type\":\"object\",\"name\":\"ResetTool\",\"id\":\"p1486\"}],\"active_drag\":{\"id\":\"p1485\"}}},\"left\":[{\"type\":\"object\",\"name\":\"LinearAxis\",\"id\":\"p1479\",\"attributes\":{\"ticker\":{\"type\":\"object\",\"name\":\"MercatorTicker\",\"id\":\"p1489\",\"attributes\":{\"mantissas\":[1,2,5],\"dimension\":\"lat\"}},\"formatter\":{\"type\":\"object\",\"name\":\"MercatorTickFormatter\",\"id\":\"p1490\",\"attributes\":{\"dimension\":\"lat\"}},\"axis_label\":\"Latitude\",\"major_label_policy\":{\"type\":\"object\",\"name\":\"AllLabels\",\"id\":\"p1482\"}}}],\"below\":[{\"type\":\"object\",\"name\":\"LinearAxis\",\"id\":\"p1474\",\"attributes\":{\"ticker\":{\"type\":\"object\",\"name\":\"MercatorTicker\",\"id\":\"p1487\",\"attributes\":{\"mantissas\":[1,2,5],\"dimension\":\"lon\"}},\"formatter\":{\"type\":\"object\",\"name\":\"MercatorTickFormatter\",\"id\":\"p1488\",\"attributes\":{\"dimension\":\"lon\"}},\"axis_label\":\"Longitude\",\"major_label_policy\":{\"type\":\"object\",\"name\":\"AllLabels\",\"id\":\"p1477\"}}}],\"center\":[{\"type\":\"object\",\"name\":\"Grid\",\"id\":\"p1478\",\"attributes\":{\"axis\":{\"id\":\"p1474\"},\"grid_line_color\":null}},{\"type\":\"object\",\"name\":\"Grid\",\"id\":\"p1483\",\"attributes\":{\"dimension\":1,\"axis\":{\"id\":\"p1479\"},\"grid_line_color\":null}}],\"frame_width\":600,\"frame_height\":600,\"min_border_top\":10,\"min_border_bottom\":10,\"min_border_left\":10,\"min_border_right\":10,\"output_backend\":\"webgl\",\"match_aspect\":true}},{\"type\":\"object\",\"name\":\"Spacer\",\"id\":\"p1511\",\"attributes\":{\"name\":\"HSpacer02030\",\"stylesheets\":[\"\\n:host(.pn-loading):before, .pn-loading:before {\\n  background-color: #c3c3c3;\\n  mask-size: auto calc(min(50%, 400px));\\n  -webkit-mask-size: auto calc(min(50%, 400px));\\n}\",{\"id\":\"p1409\"},{\"id\":\"p1407\"},{\"id\":\"p1408\"}],\"margin\":0,\"sizing_mode\":\"stretch_width\",\"align\":\"start\"}}]}}],\"defs\":[{\"type\":\"model\",\"name\":\"ReactiveHTML1\"},{\"type\":\"model\",\"name\":\"FlexBox1\",\"properties\":[{\"name\":\"align_content\",\"kind\":\"Any\",\"default\":\"flex-start\"},{\"name\":\"align_items\",\"kind\":\"Any\",\"default\":\"flex-start\"},{\"name\":\"flex_direction\",\"kind\":\"Any\",\"default\":\"row\"},{\"name\":\"flex_wrap\",\"kind\":\"Any\",\"default\":\"wrap\"},{\"name\":\"gap\",\"kind\":\"Any\",\"default\":\"\"},{\"name\":\"justify_content\",\"kind\":\"Any\",\"default\":\"flex-start\"}]},{\"type\":\"model\",\"name\":\"FloatPanel1\",\"properties\":[{\"name\":\"config\",\"kind\":\"Any\",\"default\":{\"type\":\"map\"}},{\"name\":\"contained\",\"kind\":\"Any\",\"default\":true},{\"name\":\"position\",\"kind\":\"Any\",\"default\":\"right-top\"},{\"name\":\"offsetx\",\"kind\":\"Any\",\"default\":null},{\"name\":\"offsety\",\"kind\":\"Any\",\"default\":null},{\"name\":\"theme\",\"kind\":\"Any\",\"default\":\"primary\"},{\"name\":\"status\",\"kind\":\"Any\",\"default\":\"normalized\"}]},{\"type\":\"model\",\"name\":\"GridStack1\",\"properties\":[{\"name\":\"mode\",\"kind\":\"Any\",\"default\":\"warn\"},{\"name\":\"ncols\",\"kind\":\"Any\",\"default\":null},{\"name\":\"nrows\",\"kind\":\"Any\",\"default\":null},{\"name\":\"allow_resize\",\"kind\":\"Any\",\"default\":true},{\"name\":\"allow_drag\",\"kind\":\"Any\",\"default\":true},{\"name\":\"state\",\"kind\":\"Any\",\"default\":[]}]},{\"type\":\"model\",\"name\":\"drag1\",\"properties\":[{\"name\":\"slider_width\",\"kind\":\"Any\",\"default\":5},{\"name\":\"slider_color\",\"kind\":\"Any\",\"default\":\"black\"},{\"name\":\"value\",\"kind\":\"Any\",\"default\":50}]},{\"type\":\"model\",\"name\":\"click1\",\"properties\":[{\"name\":\"terminal_output\",\"kind\":\"Any\",\"default\":\"\"},{\"name\":\"debug_name\",\"kind\":\"Any\",\"default\":\"\"},{\"name\":\"clears\",\"kind\":\"Any\",\"default\":0}]},{\"type\":\"model\",\"name\":\"FastWrapper1\",\"properties\":[{\"name\":\"object\",\"kind\":\"Any\",\"default\":null},{\"name\":\"style\",\"kind\":\"Any\",\"default\":null}]},{\"type\":\"model\",\"name\":\"NotificationAreaBase1\",\"properties\":[{\"name\":\"js_events\",\"kind\":\"Any\",\"default\":{\"type\":\"map\"}},{\"name\":\"position\",\"kind\":\"Any\",\"default\":\"bottom-right\"},{\"name\":\"_clear\",\"kind\":\"Any\",\"default\":0}]},{\"type\":\"model\",\"name\":\"NotificationArea1\",\"properties\":[{\"name\":\"js_events\",\"kind\":\"Any\",\"default\":{\"type\":\"map\"}},{\"name\":\"notifications\",\"kind\":\"Any\",\"default\":[]},{\"name\":\"position\",\"kind\":\"Any\",\"default\":\"bottom-right\"},{\"name\":\"_clear\",\"kind\":\"Any\",\"default\":0},{\"name\":\"types\",\"kind\":\"Any\",\"default\":[{\"type\":\"map\",\"entries\":[[\"type\",\"warning\"],[\"background\",\"#ffc107\"],[\"icon\",{\"type\":\"map\",\"entries\":[[\"className\",\"fas fa-exclamation-triangle\"],[\"tagName\",\"i\"],[\"color\",\"white\"]]}]]},{\"type\":\"map\",\"entries\":[[\"type\",\"info\"],[\"background\",\"#007bff\"],[\"icon\",{\"type\":\"map\",\"entries\":[[\"className\",\"fas fa-info-circle\"],[\"tagName\",\"i\"],[\"color\",\"white\"]]}]]}]}]},{\"type\":\"model\",\"name\":\"Notification\",\"properties\":[{\"name\":\"background\",\"kind\":\"Any\",\"default\":null},{\"name\":\"duration\",\"kind\":\"Any\",\"default\":3000},{\"name\":\"icon\",\"kind\":\"Any\",\"default\":null},{\"name\":\"message\",\"kind\":\"Any\",\"default\":\"\"},{\"name\":\"notification_type\",\"kind\":\"Any\",\"default\":null},{\"name\":\"_destroyed\",\"kind\":\"Any\",\"default\":false}]},{\"type\":\"model\",\"name\":\"TemplateActions1\",\"properties\":[{\"name\":\"open_modal\",\"kind\":\"Any\",\"default\":0},{\"name\":\"close_modal\",\"kind\":\"Any\",\"default\":0}]},{\"type\":\"model\",\"name\":\"BootstrapTemplateActions1\",\"properties\":[{\"name\":\"open_modal\",\"kind\":\"Any\",\"default\":0},{\"name\":\"close_modal\",\"kind\":\"Any\",\"default\":0}]},{\"type\":\"model\",\"name\":\"TemplateEditor1\",\"properties\":[{\"name\":\"layout\",\"kind\":\"Any\",\"default\":[]}]},{\"type\":\"model\",\"name\":\"MaterialTemplateActions1\",\"properties\":[{\"name\":\"open_modal\",\"kind\":\"Any\",\"default\":0},{\"name\":\"close_modal\",\"kind\":\"Any\",\"default\":0}]},{\"type\":\"model\",\"name\":\"ReactiveESM1\"},{\"type\":\"model\",\"name\":\"JSComponent1\"},{\"type\":\"model\",\"name\":\"ReactComponent1\"},{\"type\":\"model\",\"name\":\"AnyWidgetComponent1\"},{\"type\":\"model\",\"name\":\"request_value1\",\"properties\":[{\"name\":\"fill\",\"kind\":\"Any\",\"default\":\"none\"},{\"name\":\"_synced\",\"kind\":\"Any\",\"default\":null},{\"name\":\"_request_sync\",\"kind\":\"Any\",\"default\":0}]}]}};\n",
       "  var render_items = [{\"docid\":\"66ffdbb4-e4e5-453f-8859-91b2a53dae9a\",\"roots\":{\"p1406\":\"b8871edd-b2a7-41a6-89e7-d67a1f0208e7\"},\"root_ids\":[\"p1406\"]}];\n",
       "  var docs = Object.values(docs_json)\n",
       "  if (!docs) {\n",
       "    return\n",
       "  }\n",
       "  const py_version = docs[0].version.replace('rc', '-rc.').replace('.dev', '-dev.')\n",
       "  async function embed_document(root) {\n",
       "    var Bokeh = get_bokeh(root)\n",
       "    await Bokeh.embed.embed_items_notebook(docs_json, render_items);\n",
       "    for (const render_item of render_items) {\n",
       "      for (const root_id of render_item.root_ids) {\n",
       "\tconst id_el = document.getElementById(root_id)\n",
       "\tif (id_el.children.length && id_el.children[0].hasAttribute('data-root-id')) {\n",
       "\t  const root_el = id_el.children[0]\n",
       "\t  root_el.id = root_el.id + '-rendered'\n",
       "\t  for (const child of root_el.children) {\n",
       "            // Ensure JupyterLab does not capture keyboard shortcuts\n",
       "            // see: https://jupyterlab.readthedocs.io/en/4.1.x/extension/notebook.html#keyboard-interaction-model\n",
       "\t    child.setAttribute('data-lm-suppress-shortcuts', 'true')\n",
       "\t  }\n",
       "\t}\n",
       "      }\n",
       "    }\n",
       "  }\n",
       "  function get_bokeh(root) {\n",
       "    if (root.Bokeh === undefined) {\n",
       "      return null\n",
       "    } else if (root.Bokeh.version !== py_version) {\n",
       "      if (root.Bokeh.versions === undefined || !root.Bokeh.versions.has(py_version)) {\n",
       "\treturn null\n",
       "      }\n",
       "      return root.Bokeh.versions.get(py_version);\n",
       "    } else if (root.Bokeh.version === py_version) {\n",
       "      return root.Bokeh\n",
       "    }\n",
       "    return null\n",
       "  }\n",
       "  function is_loaded(root) {\n",
       "    var Bokeh = get_bokeh(root)\n",
       "    return (Bokeh != null && Bokeh.Panel !== undefined)\n",
       "  }\n",
       "  if (is_loaded(root)) {\n",
       "    embed_document(root);\n",
       "  } else {\n",
       "    var attempts = 0;\n",
       "    var timer = setInterval(function(root) {\n",
       "      if (is_loaded(root)) {\n",
       "        clearInterval(timer);\n",
       "        embed_document(root);\n",
       "      } else if (document.readyState == \"complete\") {\n",
       "        attempts++;\n",
       "        if (attempts > 200) {\n",
       "          clearInterval(timer);\n",
       "\t  var Bokeh = get_bokeh(root)\n",
       "\t  if (Bokeh == null || Bokeh.Panel == null) {\n",
       "            console.warn(\"Panel: ERROR: Unable to run Panel code because Bokeh or Panel library is missing\");\n",
       "\t  } else {\n",
       "\t    console.warn(\"Panel: WARNING: Attempting to render but not all required libraries could be resolved.\")\n",
       "\t    embed_document(root)\n",
       "\t  }\n",
       "        }\n",
       "      }\n",
       "    }, 25, root)\n",
       "  }\n",
       "})(window);</script>"
      ],
      "text/plain": [
       ":Overlay\n",
       "   .WMTS.I     :WMTS   [Longitude,Latitude]\n",
       "   .Polygons.I :Polygons   [Longitude,Latitude]"
      ]
     },
     "execution_count": 20,
     "metadata": {
      "application/vnd.holoviews_exec.v0+json": {
       "id": "p1406"
      }
     },
     "output_type": "execute_result"
    }
   ],
   "source": [
    "# California: Butte Valley National Grassland\n",
    "ca_grassland_gdf = usfs_grasslands_gdf.loc[usfs_grasslands_gdf['GRASSLANDN'] == 'Butte Valley National Grassland']\n",
    "\n",
    "# plot with EsriImagery basemap  \n",
    "ca_grassland_gdf.hvplot(\n",
    "    geo=True, tiles='EsriImagery',\n",
    "    title='Butte Valley National Grassland',\n",
    "    fill_color=None, line_color='lightblue', line_width=3,\n",
    "    frame_width=600, frame_height=600\n",
    ")"
   ]
  },
  {
   "cell_type": "code",
   "execution_count": 21,
   "metadata": {},
   "outputs": [
    {
     "data": {},
     "metadata": {},
     "output_type": "display_data"
    },
    {
     "data": {
      "application/vnd.holoviews_exec.v0+json": "",
      "text/html": [
       "<div id='p1537'>\n",
       "  <div id=\"c740557c-505b-437b-b5ca-49bc60c5b0d1\" data-root-id=\"p1537\" style=\"display: contents;\"></div>\n",
       "</div>\n",
       "<script type=\"application/javascript\">(function(root) {\n",
       "  var docs_json = {\"4605dafd-9064-4859-8418-695ef87927ae\":{\"version\":\"3.5.2\",\"title\":\"Bokeh Application\",\"roots\":[{\"type\":\"object\",\"name\":\"Row\",\"id\":\"p1537\",\"attributes\":{\"name\":\"Row02137\",\"tags\":[\"embedded\"],\"stylesheets\":[\"\\n:host(.pn-loading):before, .pn-loading:before {\\n  background-color: #c3c3c3;\\n  mask-size: auto calc(min(50%, 400px));\\n  -webkit-mask-size: auto calc(min(50%, 400px));\\n}\",{\"type\":\"object\",\"name\":\"ImportedStyleSheet\",\"id\":\"p1540\",\"attributes\":{\"url\":\"https://cdn.holoviz.org/panel/1.5.2/dist/css/loading.css\"}},{\"type\":\"object\",\"name\":\"ImportedStyleSheet\",\"id\":\"p1644\",\"attributes\":{\"url\":\"https://cdn.holoviz.org/panel/1.5.2/dist/css/listpanel.css\"}},{\"type\":\"object\",\"name\":\"ImportedStyleSheet\",\"id\":\"p1538\",\"attributes\":{\"url\":\"https://cdn.holoviz.org/panel/1.5.2/dist/bundled/theme/default.css\"}},{\"type\":\"object\",\"name\":\"ImportedStyleSheet\",\"id\":\"p1539\",\"attributes\":{\"url\":\"https://cdn.holoviz.org/panel/1.5.2/dist/bundled/theme/native.css\"}}],\"margin\":0,\"sizing_mode\":\"stretch_width\",\"align\":\"start\",\"children\":[{\"type\":\"object\",\"name\":\"Spacer\",\"id\":\"p1541\",\"attributes\":{\"name\":\"HSpacer02143\",\"stylesheets\":[\"\\n:host(.pn-loading):before, .pn-loading:before {\\n  background-color: #c3c3c3;\\n  mask-size: auto calc(min(50%, 400px));\\n  -webkit-mask-size: auto calc(min(50%, 400px));\\n}\",{\"id\":\"p1540\"},{\"id\":\"p1538\"},{\"id\":\"p1539\"}],\"margin\":0,\"sizing_mode\":\"stretch_width\",\"align\":\"start\"}},{\"type\":\"object\",\"name\":\"Figure\",\"id\":\"p1593\",\"attributes\":{\"width\":null,\"height\":null,\"margin\":[5,10],\"sizing_mode\":\"fixed\",\"align\":\"start\",\"x_range\":{\"type\":\"object\",\"name\":\"Range1d\",\"id\":\"p1557\",\"attributes\":{\"tags\":[[[\"Longitude\",null]],[]],\"start\":-13525465.21960709,\"end\":-13461579.930984555,\"reset_start\":-13525465.21960709,\"reset_end\":-13461579.930984555,\"min_interval\":5}},\"y_range\":{\"type\":\"object\",\"name\":\"Range1d\",\"id\":\"p1558\",\"attributes\":{\"tags\":[[[\"Latitude\",null]],{\"type\":\"map\",\"entries\":[[\"invert_yaxis\",false],[\"autorange\",false]]}],\"start\":5520568.1588520175,\"end\":5586185.8019613875,\"reset_start\":5520568.1588520175,\"reset_end\":5586185.8019613875,\"min_interval\":5}},\"x_scale\":{\"type\":\"object\",\"name\":\"LinearScale\",\"id\":\"p1603\"},\"y_scale\":{\"type\":\"object\",\"name\":\"LinearScale\",\"id\":\"p1604\"},\"title\":{\"type\":\"object\",\"name\":\"Title\",\"id\":\"p1596\",\"attributes\":{\"text\":\"Crooked River National Grassland\",\"text_color\":\"black\",\"text_font_size\":\"12pt\"}},\"renderers\":[{\"type\":\"object\",\"name\":\"TileRenderer\",\"id\":\"p1626\",\"attributes\":{\"level\":\"underlay\",\"tile_source\":{\"type\":\"object\",\"name\":\"WMTSTileSource\",\"id\":\"p1622\",\"attributes\":{\"url\":\"https://server.arcgisonline.com/ArcGIS/rest/services/World_Imagery/MapServer/tile/{Z}/{Y}/{X}.jpg\",\"attribution\":\"&copy; <a href=\\\"http://downloads.esri.com/ArcGISOnline/docs/tou_summary.pdf\\\">Esri</a>, Earthstar Geographics\"}}}},{\"type\":\"object\",\"name\":\"GlyphRenderer\",\"id\":\"p1637\",\"attributes\":{\"data_source\":{\"type\":\"object\",\"name\":\"ColumnDataSource\",\"id\":\"p1628\",\"attributes\":{\"selected\":{\"type\":\"object\",\"name\":\"Selection\",\"id\":\"p1629\",\"attributes\":{\"indices\":[],\"line_indices\":[]}},\"selection_policy\":{\"type\":\"object\",\"name\":\"UnionRenderers\",\"id\":\"p1630\"},\"data\":{\"type\":\"map\",\"entries\":[[\"xs\",[[[{\"type\":\"ndarray\",\"array\":{\"type\":\"bytes\",\"data\":\"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\"},\"shape\":[1048],\"dtype\":\"float64\",\"order\":\"little\"}]]]],[\"ys\",[[[{\"type\":\"ndarray\",\"array\":{\"type\":\"bytes\",\"data\":\"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\"},\"shape\":[1048],\"dtype\":\"float64\",\"order\":\"little\"}]]]]]}}},\"view\":{\"type\":\"object\",\"name\":\"CDSView\",\"id\":\"p1638\",\"attributes\":{\"filter\":{\"type\":\"object\",\"name\":\"AllIndices\",\"id\":\"p1639\"}}},\"glyph\":{\"type\":\"object\",\"name\":\"MultiPolygons\",\"id\":\"p1634\",\"attributes\":{\"xs\":{\"type\":\"field\",\"field\":\"xs\"},\"ys\":{\"type\":\"field\",\"field\":\"ys\"},\"line_color\":{\"type\":\"value\",\"value\":\"lightblue\"},\"line_width\":{\"type\":\"value\",\"value\":3},\"fill_color\":{\"type\":\"value\",\"value\":null},\"hatch_color\":{\"type\":\"value\",\"value\":\"#30a2da\"}}},\"selection_glyph\":{\"type\":\"object\",\"name\":\"MultiPolygons\",\"id\":\"p1640\",\"attributes\":{\"xs\":{\"type\":\"field\",\"field\":\"xs\"},\"ys\":{\"type\":\"field\",\"field\":\"ys\"},\"line_color\":{\"type\":\"value\",\"value\":\"lightblue\"},\"line_alpha\":{\"type\":\"value\",\"value\":1.0},\"line_width\":{\"type\":\"value\",\"value\":3},\"line_join\":{\"type\":\"value\",\"value\":\"bevel\"},\"line_cap\":{\"type\":\"value\",\"value\":\"butt\"},\"line_dash\":{\"type\":\"value\",\"value\":[]},\"line_dash_offset\":{\"type\":\"value\",\"value\":0},\"fill_color\":{\"type\":\"value\",\"value\":null},\"fill_alpha\":{\"type\":\"value\",\"value\":1.0},\"hatch_color\":{\"type\":\"value\",\"value\":\"#30a2da\"},\"hatch_alpha\":{\"type\":\"value\",\"value\":1.0},\"hatch_scale\":{\"type\":\"value\",\"value\":12.0},\"hatch_pattern\":{\"type\":\"value\",\"value\":null},\"hatch_weight\":{\"type\":\"value\",\"value\":1.0}}},\"nonselection_glyph\":{\"type\":\"object\",\"name\":\"MultiPolygons\",\"id\":\"p1635\",\"attributes\":{\"xs\":{\"type\":\"field\",\"field\":\"xs\"},\"ys\":{\"type\":\"field\",\"field\":\"ys\"},\"line_color\":{\"type\":\"value\",\"value\":\"lightblue\"},\"line_alpha\":{\"type\":\"value\",\"value\":0.1},\"line_width\":{\"type\":\"value\",\"value\":3},\"fill_color\":{\"type\":\"value\",\"value\":null},\"fill_alpha\":{\"type\":\"value\",\"value\":0.1},\"hatch_color\":{\"type\":\"value\",\"value\":\"#30a2da\"},\"hatch_alpha\":{\"type\":\"value\",\"value\":0.1}}},\"muted_glyph\":{\"type\":\"object\",\"name\":\"MultiPolygons\",\"id\":\"p1636\",\"attributes\":{\"xs\":{\"type\":\"field\",\"field\":\"xs\"},\"ys\":{\"type\":\"field\",\"field\":\"ys\"},\"line_color\":{\"type\":\"value\",\"value\":\"lightblue\"},\"line_alpha\":{\"type\":\"value\",\"value\":0.2},\"line_width\":{\"type\":\"value\",\"value\":3},\"fill_color\":{\"type\":\"value\",\"value\":null},\"fill_alpha\":{\"type\":\"value\",\"value\":0.2},\"hatch_color\":{\"type\":\"value\",\"value\":\"#30a2da\"},\"hatch_alpha\":{\"type\":\"value\",\"value\":0.2}}}}}],\"toolbar\":{\"type\":\"object\",\"name\":\"Toolbar\",\"id\":\"p1602\",\"attributes\":{\"tools\":[{\"type\":\"object\",\"name\":\"WheelZoomTool\",\"id\":\"p1561\",\"attributes\":{\"renderers\":\"auto\",\"zoom_on_axis\":false}},{\"type\":\"object\",\"name\":\"BoxZoomTool\",\"id\":\"p1569\",\"attributes\":{\"overlay\":{\"type\":\"object\",\"name\":\"BoxAnnotation\",\"id\":\"p1562\",\"attributes\":{\"syncable\":false,\"line_color\":\"black\",\"line_alpha\":1.0,\"line_width\":2,\"line_dash\":[4,4],\"fill_color\":\"lightgrey\",\"fill_alpha\":0.5,\"level\":\"overlay\",\"visible\":false,\"left\":{\"type\":\"number\",\"value\":\"nan\"},\"right\":{\"type\":\"number\",\"value\":\"nan\"},\"top\":{\"type\":\"number\",\"value\":\"nan\"},\"bottom\":{\"type\":\"number\",\"value\":\"nan\"},\"left_units\":\"canvas\",\"right_units\":\"canvas\",\"top_units\":\"canvas\",\"bottom_units\":\"canvas\",\"handles\":{\"type\":\"object\",\"name\":\"BoxInteractionHandles\",\"id\":\"p1012\",\"attributes\":{\"all\":{\"type\":\"object\",\"name\":\"AreaVisuals\",\"id\":\"p1011\",\"attributes\":{\"fill_color\":\"white\",\"hover_fill_color\":\"lightgray\"}}}}}},\"match_aspect\":true}},{\"type\":\"object\",\"name\":\"PanTool\",\"id\":\"p1616\"},{\"type\":\"object\",\"name\":\"ResetTool\",\"id\":\"p1617\"}],\"active_drag\":{\"id\":\"p1616\"}}},\"left\":[{\"type\":\"object\",\"name\":\"LinearAxis\",\"id\":\"p1610\",\"attributes\":{\"ticker\":{\"type\":\"object\",\"name\":\"MercatorTicker\",\"id\":\"p1620\",\"attributes\":{\"mantissas\":[1,2,5],\"dimension\":\"lat\"}},\"formatter\":{\"type\":\"object\",\"name\":\"MercatorTickFormatter\",\"id\":\"p1621\",\"attributes\":{\"dimension\":\"lat\"}},\"axis_label\":\"Latitude\",\"major_label_policy\":{\"type\":\"object\",\"name\":\"AllLabels\",\"id\":\"p1613\"}}}],\"below\":[{\"type\":\"object\",\"name\":\"LinearAxis\",\"id\":\"p1605\",\"attributes\":{\"ticker\":{\"type\":\"object\",\"name\":\"MercatorTicker\",\"id\":\"p1618\",\"attributes\":{\"mantissas\":[1,2,5],\"dimension\":\"lon\"}},\"formatter\":{\"type\":\"object\",\"name\":\"MercatorTickFormatter\",\"id\":\"p1619\",\"attributes\":{\"dimension\":\"lon\"}},\"axis_label\":\"Longitude\",\"major_label_policy\":{\"type\":\"object\",\"name\":\"AllLabels\",\"id\":\"p1608\"}}}],\"center\":[{\"type\":\"object\",\"name\":\"Grid\",\"id\":\"p1609\",\"attributes\":{\"axis\":{\"id\":\"p1605\"},\"grid_line_color\":null}},{\"type\":\"object\",\"name\":\"Grid\",\"id\":\"p1614\",\"attributes\":{\"dimension\":1,\"axis\":{\"id\":\"p1610\"},\"grid_line_color\":null}}],\"frame_width\":600,\"frame_height\":600,\"min_border_top\":10,\"min_border_bottom\":10,\"min_border_left\":10,\"min_border_right\":10,\"output_backend\":\"webgl\",\"match_aspect\":true}},{\"type\":\"object\",\"name\":\"Spacer\",\"id\":\"p1642\",\"attributes\":{\"name\":\"HSpacer02144\",\"stylesheets\":[\"\\n:host(.pn-loading):before, .pn-loading:before {\\n  background-color: #c3c3c3;\\n  mask-size: auto calc(min(50%, 400px));\\n  -webkit-mask-size: auto calc(min(50%, 400px));\\n}\",{\"id\":\"p1540\"},{\"id\":\"p1538\"},{\"id\":\"p1539\"}],\"margin\":0,\"sizing_mode\":\"stretch_width\",\"align\":\"start\"}}]}}],\"defs\":[{\"type\":\"model\",\"name\":\"ReactiveHTML1\"},{\"type\":\"model\",\"name\":\"FlexBox1\",\"properties\":[{\"name\":\"align_content\",\"kind\":\"Any\",\"default\":\"flex-start\"},{\"name\":\"align_items\",\"kind\":\"Any\",\"default\":\"flex-start\"},{\"name\":\"flex_direction\",\"kind\":\"Any\",\"default\":\"row\"},{\"name\":\"flex_wrap\",\"kind\":\"Any\",\"default\":\"wrap\"},{\"name\":\"gap\",\"kind\":\"Any\",\"default\":\"\"},{\"name\":\"justify_content\",\"kind\":\"Any\",\"default\":\"flex-start\"}]},{\"type\":\"model\",\"name\":\"FloatPanel1\",\"properties\":[{\"name\":\"config\",\"kind\":\"Any\",\"default\":{\"type\":\"map\"}},{\"name\":\"contained\",\"kind\":\"Any\",\"default\":true},{\"name\":\"position\",\"kind\":\"Any\",\"default\":\"right-top\"},{\"name\":\"offsetx\",\"kind\":\"Any\",\"default\":null},{\"name\":\"offsety\",\"kind\":\"Any\",\"default\":null},{\"name\":\"theme\",\"kind\":\"Any\",\"default\":\"primary\"},{\"name\":\"status\",\"kind\":\"Any\",\"default\":\"normalized\"}]},{\"type\":\"model\",\"name\":\"GridStack1\",\"properties\":[{\"name\":\"mode\",\"kind\":\"Any\",\"default\":\"warn\"},{\"name\":\"ncols\",\"kind\":\"Any\",\"default\":null},{\"name\":\"nrows\",\"kind\":\"Any\",\"default\":null},{\"name\":\"allow_resize\",\"kind\":\"Any\",\"default\":true},{\"name\":\"allow_drag\",\"kind\":\"Any\",\"default\":true},{\"name\":\"state\",\"kind\":\"Any\",\"default\":[]}]},{\"type\":\"model\",\"name\":\"drag1\",\"properties\":[{\"name\":\"slider_width\",\"kind\":\"Any\",\"default\":5},{\"name\":\"slider_color\",\"kind\":\"Any\",\"default\":\"black\"},{\"name\":\"value\",\"kind\":\"Any\",\"default\":50}]},{\"type\":\"model\",\"name\":\"click1\",\"properties\":[{\"name\":\"terminal_output\",\"kind\":\"Any\",\"default\":\"\"},{\"name\":\"debug_name\",\"kind\":\"Any\",\"default\":\"\"},{\"name\":\"clears\",\"kind\":\"Any\",\"default\":0}]},{\"type\":\"model\",\"name\":\"FastWrapper1\",\"properties\":[{\"name\":\"object\",\"kind\":\"Any\",\"default\":null},{\"name\":\"style\",\"kind\":\"Any\",\"default\":null}]},{\"type\":\"model\",\"name\":\"NotificationAreaBase1\",\"properties\":[{\"name\":\"js_events\",\"kind\":\"Any\",\"default\":{\"type\":\"map\"}},{\"name\":\"position\",\"kind\":\"Any\",\"default\":\"bottom-right\"},{\"name\":\"_clear\",\"kind\":\"Any\",\"default\":0}]},{\"type\":\"model\",\"name\":\"NotificationArea1\",\"properties\":[{\"name\":\"js_events\",\"kind\":\"Any\",\"default\":{\"type\":\"map\"}},{\"name\":\"notifications\",\"kind\":\"Any\",\"default\":[]},{\"name\":\"position\",\"kind\":\"Any\",\"default\":\"bottom-right\"},{\"name\":\"_clear\",\"kind\":\"Any\",\"default\":0},{\"name\":\"types\",\"kind\":\"Any\",\"default\":[{\"type\":\"map\",\"entries\":[[\"type\",\"warning\"],[\"background\",\"#ffc107\"],[\"icon\",{\"type\":\"map\",\"entries\":[[\"className\",\"fas fa-exclamation-triangle\"],[\"tagName\",\"i\"],[\"color\",\"white\"]]}]]},{\"type\":\"map\",\"entries\":[[\"type\",\"info\"],[\"background\",\"#007bff\"],[\"icon\",{\"type\":\"map\",\"entries\":[[\"className\",\"fas fa-info-circle\"],[\"tagName\",\"i\"],[\"color\",\"white\"]]}]]}]}]},{\"type\":\"model\",\"name\":\"Notification\",\"properties\":[{\"name\":\"background\",\"kind\":\"Any\",\"default\":null},{\"name\":\"duration\",\"kind\":\"Any\",\"default\":3000},{\"name\":\"icon\",\"kind\":\"Any\",\"default\":null},{\"name\":\"message\",\"kind\":\"Any\",\"default\":\"\"},{\"name\":\"notification_type\",\"kind\":\"Any\",\"default\":null},{\"name\":\"_destroyed\",\"kind\":\"Any\",\"default\":false}]},{\"type\":\"model\",\"name\":\"TemplateActions1\",\"properties\":[{\"name\":\"open_modal\",\"kind\":\"Any\",\"default\":0},{\"name\":\"close_modal\",\"kind\":\"Any\",\"default\":0}]},{\"type\":\"model\",\"name\":\"BootstrapTemplateActions1\",\"properties\":[{\"name\":\"open_modal\",\"kind\":\"Any\",\"default\":0},{\"name\":\"close_modal\",\"kind\":\"Any\",\"default\":0}]},{\"type\":\"model\",\"name\":\"TemplateEditor1\",\"properties\":[{\"name\":\"layout\",\"kind\":\"Any\",\"default\":[]}]},{\"type\":\"model\",\"name\":\"MaterialTemplateActions1\",\"properties\":[{\"name\":\"open_modal\",\"kind\":\"Any\",\"default\":0},{\"name\":\"close_modal\",\"kind\":\"Any\",\"default\":0}]},{\"type\":\"model\",\"name\":\"ReactiveESM1\"},{\"type\":\"model\",\"name\":\"JSComponent1\"},{\"type\":\"model\",\"name\":\"ReactComponent1\"},{\"type\":\"model\",\"name\":\"AnyWidgetComponent1\"},{\"type\":\"model\",\"name\":\"request_value1\",\"properties\":[{\"name\":\"fill\",\"kind\":\"Any\",\"default\":\"none\"},{\"name\":\"_synced\",\"kind\":\"Any\",\"default\":null},{\"name\":\"_request_sync\",\"kind\":\"Any\",\"default\":0}]}]}};\n",
       "  var render_items = [{\"docid\":\"4605dafd-9064-4859-8418-695ef87927ae\",\"roots\":{\"p1537\":\"c740557c-505b-437b-b5ca-49bc60c5b0d1\"},\"root_ids\":[\"p1537\"]}];\n",
       "  var docs = Object.values(docs_json)\n",
       "  if (!docs) {\n",
       "    return\n",
       "  }\n",
       "  const py_version = docs[0].version.replace('rc', '-rc.').replace('.dev', '-dev.')\n",
       "  async function embed_document(root) {\n",
       "    var Bokeh = get_bokeh(root)\n",
       "    await Bokeh.embed.embed_items_notebook(docs_json, render_items);\n",
       "    for (const render_item of render_items) {\n",
       "      for (const root_id of render_item.root_ids) {\n",
       "\tconst id_el = document.getElementById(root_id)\n",
       "\tif (id_el.children.length && id_el.children[0].hasAttribute('data-root-id')) {\n",
       "\t  const root_el = id_el.children[0]\n",
       "\t  root_el.id = root_el.id + '-rendered'\n",
       "\t  for (const child of root_el.children) {\n",
       "            // Ensure JupyterLab does not capture keyboard shortcuts\n",
       "            // see: https://jupyterlab.readthedocs.io/en/4.1.x/extension/notebook.html#keyboard-interaction-model\n",
       "\t    child.setAttribute('data-lm-suppress-shortcuts', 'true')\n",
       "\t  }\n",
       "\t}\n",
       "      }\n",
       "    }\n",
       "  }\n",
       "  function get_bokeh(root) {\n",
       "    if (root.Bokeh === undefined) {\n",
       "      return null\n",
       "    } else if (root.Bokeh.version !== py_version) {\n",
       "      if (root.Bokeh.versions === undefined || !root.Bokeh.versions.has(py_version)) {\n",
       "\treturn null\n",
       "      }\n",
       "      return root.Bokeh.versions.get(py_version);\n",
       "    } else if (root.Bokeh.version === py_version) {\n",
       "      return root.Bokeh\n",
       "    }\n",
       "    return null\n",
       "  }\n",
       "  function is_loaded(root) {\n",
       "    var Bokeh = get_bokeh(root)\n",
       "    return (Bokeh != null && Bokeh.Panel !== undefined)\n",
       "  }\n",
       "  if (is_loaded(root)) {\n",
       "    embed_document(root);\n",
       "  } else {\n",
       "    var attempts = 0;\n",
       "    var timer = setInterval(function(root) {\n",
       "      if (is_loaded(root)) {\n",
       "        clearInterval(timer);\n",
       "        embed_document(root);\n",
       "      } else if (document.readyState == \"complete\") {\n",
       "        attempts++;\n",
       "        if (attempts > 200) {\n",
       "          clearInterval(timer);\n",
       "\t  var Bokeh = get_bokeh(root)\n",
       "\t  if (Bokeh == null || Bokeh.Panel == null) {\n",
       "            console.warn(\"Panel: ERROR: Unable to run Panel code because Bokeh or Panel library is missing\");\n",
       "\t  } else {\n",
       "\t    console.warn(\"Panel: WARNING: Attempting to render but not all required libraries could be resolved.\")\n",
       "\t    embed_document(root)\n",
       "\t  }\n",
       "        }\n",
       "      }\n",
       "    }, 25, root)\n",
       "  }\n",
       "})(window);</script>"
      ],
      "text/plain": [
       ":Overlay\n",
       "   .WMTS.I     :WMTS   [Longitude,Latitude]\n",
       "   .Polygons.I :Polygons   [Longitude,Latitude]"
      ]
     },
     "execution_count": 21,
     "metadata": {
      "application/vnd.holoviews_exec.v0+json": {
       "id": "p1537"
      }
     },
     "output_type": "execute_result"
    }
   ],
   "source": [
    "# Oregon: Crooked River National Grassland\n",
    "or_grassland_gdf = usfs_grasslands_gdf.loc[usfs_grasslands_gdf['GRASSLANDN'] == 'Crooked River National Grassland']\n",
    "\n",
    "# plot with EsriImagery basemap  \n",
    "or_grassland_gdf.hvplot(\n",
    "    geo=True, tiles='EsriImagery',\n",
    "    title='Crooked River National Grassland',\n",
    "    fill_color=None, line_color='lightblue', line_width=3,\n",
    "    frame_width=600, frame_height=600\n",
    ")"
   ]
  },
  {
   "cell_type": "code",
   "execution_count": null,
   "metadata": {},
   "outputs": [],
   "source": []
  },
  {
   "cell_type": "code",
   "execution_count": null,
   "metadata": {},
   "outputs": [],
   "source": []
  },
  {
   "cell_type": "code",
   "execution_count": null,
   "metadata": {},
   "outputs": [],
   "source": []
  },
  {
   "cell_type": "markdown",
   "metadata": {},
   "source": [
    "#### Discussion\n"
   ]
  },
  {
   "cell_type": "markdown",
   "metadata": {},
   "source": [
    "#### References\n",
    "\n"
   ]
  }
 ],
 "metadata": {
  "kernelspec": {
   "display_name": "earth-analytics-python",
   "language": "python",
   "name": "python3"
  },
  "language_info": {
   "codemirror_mode": {
    "name": "ipython",
    "version": 3
   },
   "file_extension": ".py",
   "mimetype": "text/x-python",
   "name": "python",
   "nbconvert_exporter": "python",
   "pygments_lexer": "ipython3",
   "version": "3.11.10"
  }
 },
 "nbformat": 4,
 "nbformat_minor": 2
}
